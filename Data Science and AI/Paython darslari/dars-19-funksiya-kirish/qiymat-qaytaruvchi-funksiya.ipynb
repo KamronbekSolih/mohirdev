{
 "cells": [
  {
   "cell_type": "markdown",
   "metadata": {},
   "source": [
    "Foydanaluvchidan ismi, familiyasi, tug'ilgan yili, tug'ilgan joyi, email manzili va telefon raqamini qabul qilib, lug'at ko'rinishida qaytaruvchi funksiya yozing. Lug'atda foydalanuvchu yoshi ham bo'lsin. Ba'zi argumentlarni kiritishni ixtiyoriy qiling (masalan, tel.raqam, el.manzil)"
   ]
  },
  {
   "cell_type": "code",
   "execution_count": 7,
   "metadata": {},
   "outputs": [],
   "source": [
    "def forma_yasa(ism,familiya,t_yil,t_joy,telefon='', joriy_yil=2023,email=''):\n",
    "    '''Foydalanuvchining shaxsiy ma'lumotlarini lug'at ko'rinishad qaytaruvchi funksiya'''\n",
    "    return {\n",
    "        'ism':ism,\n",
    "        'familiya':familiya,\n",
    "        't_yil':t_yil,\n",
    "        't_joy':t_joy,\n",
    "        'email':email,\n",
    "        'telefon':telefon\n",
    "    }\n"
   ]
  },
  {
   "cell_type": "markdown",
   "metadata": {},
   "source": [
    "Yuqoridagi funksiyani while yordamida bir necha bor chaqiring, va mijozlar degan ro'yxatni shakllantiring. Ro'yxatdagi mijozlar haqidagi ma'lumotni konsolga chiqaring."
   ]
  },
  {
   "cell_type": "code",
   "execution_count": 8,
   "metadata": {},
   "outputs": [
    {
     "name": "stdout",
     "output_type": "stream",
     "text": [
      "Mijozlar ro'yxatini shakllantiramiz\n",
      "Quyida ma'lumotlarni kiritng.\n"
     ]
    },
    {
     "name": "stdout",
     "output_type": "stream",
     "text": [
      "Kamronbek 2002-yilda Namanganda tug'ilgan. \n"
     ]
    }
   ],
   "source": [
    "print('Mijozlar ro\\'yxatini shakllantiramiz')\n",
    "mijozlar = []\n",
    "while True:\n",
    "    print(\"Quyida ma'lumotlarni kiritng.\")\n",
    "    name = input('Ismingiz: ')\n",
    "    surname = input(\"Familiyangiz: \")\n",
    "    b_year = int(input(\"Tug'ilgan yilingiz: \"))\n",
    "    b_place = input(\"Tug'ilgan joyingiz\")\n",
    "    age = 2023 - b_year\n",
    "    email = input(\"Email(ixtiyoriy): \")\n",
    "    phone = input(\"Telefon raqamingiz(ixtioriy): \")\n",
    "\n",
    "    mijozlar.append(forma_yasa(name,surname,b_year,b_place,email,phone))\n",
    "    flag = input(\"Yanami? y/n\")\n",
    "    if flag == 'n':\n",
    "        break\n",
    "for mijoz in mijozlar:\n",
    "    print(f\"{mijoz['ism'].title()} {mijoz['t_yil']}-yilda {mijoz['t_joy'].title()}da tug'ilgan. \")"
   ]
  },
  {
   "cell_type": "markdown",
   "metadata": {},
   "source": [
    "Uchta son qabul qilib, ulardan eng kattasini qaytaruvchi funksiya yozing"
   ]
  },
  {
   "cell_type": "code",
   "execution_count": 12,
   "metadata": {},
   "outputs": [
    {
     "data": {
      "text/plain": [
       "82"
      ]
     },
     "execution_count": 12,
     "metadata": {},
     "output_type": "execute_result"
    }
   ],
   "source": [
    "def kattasini_top(a,b,c):\n",
    "    \"\"\"Uchta son qabul qilib ulardan eng kattasini qaytaruvchi funktsiya\"\"\"\n",
    "    if a>b and a>c:\n",
    "        return a\n",
    "    elif b>a and b>c:\n",
    "        return b\n",
    "    elif c>a and c>b:\n",
    "        return c\n",
    "    else:\n",
    "        return \"Sonlar teng\"\n",
    "    \n",
    "kattasini_top(82,63,43)"
   ]
  },
  {
   "cell_type": "markdown",
   "metadata": {},
   "source": [
    "Foydalanuvchidan aylaning radiusini qabul qilib olib, uning radiusini, diametrini, perimetri va yuzini lug'at ko'rinishida qaytaruvchi funksiya yozing"
   ]
  },
  {
   "cell_type": "code",
   "execution_count": 13,
   "metadata": {},
   "outputs": [
    {
     "data": {
      "text/plain": [
       "{'radius': 3, 'diametr': 6, 'perimetr': 18.84, 'yuza': 28.26}"
      ]
     },
     "execution_count": 13,
     "metadata": {},
     "output_type": "execute_result"
    }
   ],
   "source": [
    "def ayalana(radius):\n",
    "    \"\"\"Foydalanuvchidan aylaning radiusini qabul qilib olib, \n",
    "    uning radiusini, diametrini, perimetri va yuzini lug'at ko'rinishida qaytaruvchi funksiya\"\"\"\n",
    "    return {\n",
    "        'radius':radius,\n",
    "        'diametr' : radius*2,\n",
    "        'perimetr' : 2*3.14*radius,\n",
    "        'yuza' : 3.14*radius**2,\n",
    "    }\n",
    "\n",
    "ayalana(3)"
   ]
  },
  {
   "cell_type": "markdown",
   "metadata": {},
   "source": [
    "Berilgan oraliqdagi tub sonlar ro'yxatini qaytaruvchi funksiya yozing (tub sonlar —faqat birga va o'ziga qoldiqsiz bo'linuvchi, 1 dan katta musbat sonlar)"
   ]
  },
  {
   "cell_type": "code",
   "execution_count": 13,
   "metadata": {},
   "outputs": [
    {
     "name": "stdout",
     "output_type": "stream",
     "text": [
      "3\n",
      "5\n",
      "7\n"
     ]
    },
    {
     "data": {
      "text/plain": [
       "[2, 3, 5, 7]"
      ]
     },
     "execution_count": 13,
     "metadata": {},
     "output_type": "execute_result"
    }
   ],
   "source": [
    "def tub(min,max):\n",
    "    tublar = []\n",
    "    if min>1:\n",
    "        for a in range(min,max):\n",
    "            if 1<a<12:\n",
    "                if a == 2:\n",
    "                    tublar.append(a)\n",
    "                elif a == 9:\n",
    "                    continue\n",
    "                if a%2 != 0:\n",
    "                    print(a)\n",
    "                    tublar.append(a)\n",
    "            elif (a+1)%6 == 0 or (a-1)%6 == 0:\n",
    "                tublar.append(a)\n",
    "    return tublar\n",
    "\n",
    "tub(2,10)\n",
    "    "
   ]
  },
  {
   "cell_type": "markdown",
   "metadata": {},
   "source": [
    "Foydalanuvchidan son qabul qilib, shu son miqdoricha Fibonachchi ketma-ketligidagi sonlar ro'yxatni qaytaruvchi funksiya yozing. Ta’rif: Har bir hadi o’zidan oldingi ikkita hadning yig’indisiga teng bo’lgan ketma-ketlik Fibonachchi ketma-ketligi deyiladi. Bunda boshlang’ish had ko’pincha 1 deb olinadi. 1, 1, 2, 3, 5, 8, 13, 21, 34, 55,..."
   ]
  },
  {
   "cell_type": "code",
   "execution_count": null,
   "metadata": {},
   "outputs": [
    {
     "ename": "",
     "evalue": "",
     "output_type": "error",
     "traceback": [
      "\u001b[1;31mCannot execute code, session has been disposed. Please try restarting the Kernel."
     ]
    },
    {
     "ename": "",
     "evalue": "",
     "output_type": "error",
     "traceback": [
      "\u001b[1;31mThe Kernel crashed while executing code in the the current cell or a previous cell. Please review the code in the cell(s) to identify a possible cause of the failure. Click <a href='https://aka.ms/vscodeJupyterKernelCrash'>here</a> for more info. View Jupyter <a href='command:jupyter.viewOutput'>log</a> for further details."
     ]
    },
    {
     "ename": "",
     "evalue": "",
     "output_type": "error",
     "traceback": [
      "\u001b[1;31mCannot execute code, session has been disposed. Please try restarting the Kernel."
     ]
    }
   ],
   "source": [
    "#mohirdevsolution\n",
    "def fibonacci(n):\n",
    "    sonlar = []\n",
    "    for x in range(n):\n",
    "        if x==0 or x==1:\n",
    "            sonlar.append(1)        \n",
    "        else:\n",
    "            sonlar.append(sonlar[x-1]+sonlar[x-2])\n",
    "    return sonlar\n",
    "\n",
    "print(fibonacci(10))"
   ]
  }
 ],
 "metadata": {
  "kernelspec": {
   "display_name": "Python 3",
   "language": "python",
   "name": "python3"
  },
  "language_info": {
   "codemirror_mode": {
    "name": "ipython",
    "version": 3
   },
   "file_extension": ".py",
   "mimetype": "text/x-python",
   "name": "python",
   "nbconvert_exporter": "python",
   "pygments_lexer": "ipython3",
   "version": "3.10.7"
  },
  "orig_nbformat": 4
 },
 "nbformat": 4,
 "nbformat_minor": 2
}
