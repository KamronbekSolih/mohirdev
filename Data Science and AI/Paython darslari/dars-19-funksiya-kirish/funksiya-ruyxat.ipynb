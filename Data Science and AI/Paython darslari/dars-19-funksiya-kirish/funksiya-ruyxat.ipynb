{
 "cells": [
  {
   "cell_type": "markdown",
   "metadata": {},
   "source": [
    "Matnlardan iborat ro'yxat qabul qilib, ro'yxatdagi har bir matnning birinchi harfini katta harfga o'zgatiruvchi funksiya yozing."
   ]
  },
  {
   "cell_type": "code",
   "execution_count": 1,
   "metadata": {},
   "outputs": [
    {
     "data": {
      "text/plain": [
       "['Kelgin', 'Gulim', 'Erkalagin', \"Bog'\", \"Bo'Layin\"]"
      ]
     },
     "execution_count": 1,
     "metadata": {},
     "output_type": "execute_result"
    }
   ],
   "source": [
    "def bosh_harf(matn):\n",
    "    tahrirlandi = []\n",
    "    for suz in matn:\n",
    "        tahrirlandi.append(suz.title())\n",
    "    return tahrirlandi\n",
    "sozlar = ['kelgin','gulim','erkalagin','bog\\'','bo\\'layin']\n",
    "bosh_harf(sozlar[:])"
   ]
  },
  {
   "cell_type": "markdown",
   "metadata": {},
   "source": [
    "Darsimiz davomida yozgan bahola funksiyasini .pop() metodidan foydalanmasdan va asl ro'yxatga o'zgartirish kiritmasdan faqat lug'at qaytaradigan qilib yozing."
   ]
  },
  {
   "cell_type": "code",
   "execution_count": 2,
   "metadata": {},
   "outputs": [
    {
     "name": "stdout",
     "output_type": "stream",
     "text": [
      "{'ali': 5, 'vali': 3, 'hasan': 4, 'husan': 6}\n"
     ]
    }
   ],
   "source": [
    "def bahola(ismlar):\n",
    "    baholar = {}\n",
    "    for talaba in ismlar:\n",
    "        baho = int(input(f\"Talaba {talaba.title()}ning bahosini kiritng: \"))\n",
    "        baholar[talaba] = baho\n",
    "    return baholar\n",
    "talabalar = ['ali', 'vali', 'hasan', 'husan']\n",
    "baholar = bahola(talabalar)\n",
    "print(baholar)"
   ]
  }
 ],
 "metadata": {
  "kernelspec": {
   "display_name": "Python 3",
   "language": "python",
   "name": "python3"
  },
  "language_info": {
   "codemirror_mode": {
    "name": "ipython",
    "version": 3
   },
   "file_extension": ".py",
   "mimetype": "text/x-python",
   "name": "python",
   "nbconvert_exporter": "python",
   "pygments_lexer": "ipython3",
   "version": "3.10.7"
  },
  "orig_nbformat": 4
 },
 "nbformat": 4,
 "nbformat_minor": 2
}
