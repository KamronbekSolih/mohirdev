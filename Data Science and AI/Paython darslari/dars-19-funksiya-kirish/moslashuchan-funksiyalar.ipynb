{
 "cells": [
  {
   "cell_type": "code",
   "execution_count": 4,
   "metadata": {},
   "outputs": [
    {
     "data": {
      "text/plain": [
       "tuple"
      ]
     },
     "execution_count": 4,
     "metadata": {},
     "output_type": "execute_result"
    }
   ],
   "source": [
    "def summa(*sonlar):\n",
    "    return type(sonlar)\n",
    "summa()"
   ]
  },
  {
   "cell_type": "code",
   "execution_count": 7,
   "metadata": {},
   "outputs": [
    {
     "name": "stdout",
     "output_type": "stream",
     "text": [
      "{'rang': 'qora', 'yil': 2021}\n"
     ]
    }
   ],
   "source": [
    "def avto_info(kompaniya, model, **malumotlar):\n",
    "    return malumotlar\n",
    "\n",
    "avto1 = avto_info(\"GM\",\"Spark\",rang = 'qora', yil = 2021)\n",
    "print(avto1)\n",
    "\n",
    "# **kwarg usulida funksiya istalgancha argumentlarni kalit-qiymat ko'rinishida qabul qiladi huddi lug'atlardek. Va olingan argumentlarda avvalo lug'at yaratib oladi keyin esa\n",
    "# majburiy argumentlarni unga(lug'atga) qo'shadi. Yuqoridagi holatda majburiy argumentlar \"malumotlar\" lug'atiga qo'shilmagan,\n",
    "#  shuning uchun funksiya faqat rang va yil kalitlaridan iborat lug'at qaytaryapti.\n",
    "#  Keyingi kodda qanday qilib qo'shish ko'rsatilgan.\n",
    "\n"
   ]
  },
  {
   "cell_type": "code",
   "execution_count": null,
   "metadata": {},
   "outputs": [],
   "source": [
    "def avto_info(kompaniya,model,**malumotlar):\n",
    "    \"\"\"Avto haqidagi ma'lumotlarni lug'at ko'rinishdia qaytaruvchi funksiya\"\"\"\n",
    "    malumotlar['kompaniya']=kompaniya #majburiy argumentlar lug'atga qo'shilyapti\n",
    "    malumotlar['model']=model\n",
    "    return malumotlar"
   ]
  }
 ],
 "metadata": {
  "kernelspec": {
   "display_name": "Python 3",
   "language": "python",
   "name": "python3"
  },
  "language_info": {
   "codemirror_mode": {
    "name": "ipython",
    "version": 3
   },
   "file_extension": ".py",
   "mimetype": "text/x-python",
   "name": "python",
   "nbconvert_exporter": "python",
   "pygments_lexer": "ipython3",
   "version": "3.10.7"
  },
  "orig_nbformat": 4
 },
 "nbformat": 4,
 "nbformat_minor": 2
}
