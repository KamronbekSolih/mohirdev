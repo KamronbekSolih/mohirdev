{
 "cells": [
  {
   "cell_type": "code",
   "execution_count": 4,
   "metadata": {},
   "outputs": [
    {
     "data": {
      "text/plain": [
       "tuple"
      ]
     },
     "execution_count": 4,
     "metadata": {},
     "output_type": "execute_result"
    }
   ],
   "source": [
    "def summa(*sonlar):\n",
    "    return type(sonlar)\n",
    "summa()"
   ]
  },
  {
   "cell_type": "code",
   "execution_count": 7,
   "metadata": {},
   "outputs": [
    {
     "name": "stdout",
     "output_type": "stream",
     "text": [
      "{'rang': 'qora', 'yil': 2021}\n"
     ]
    }
   ],
   "source": [
    "def avto_info(kompaniya, model, **malumotlar):\n",
    "    return malumotlar\n",
    "\n",
    "avto1 = avto_info(\"GM\",\"Spark\",rang = 'qora', yil = 2021)\n",
    "print(avto1)\n",
    "\n",
    "# **kwarg usulida funksiya istalgancha argumentlarni kalit-qiymat ko'rinishida qabul qiladi huddi lug'atlardek. Va olingan argumentlarda avvalo lug'at yaratib oladi keyin esa\n",
    "# majburiy argumentlarni unga(lug'atga) qo'shadi. Yuqoridagi holatda majburiy argumentlar \"malumotlar\" lug'atiga qo'shilmagan,\n",
    "#  shuning uchun funksiya faqat rang va yil kalitlaridan iborat lug'at qaytaryapti.\n",
    "#  Keyingi kodda qanday qilib qo'shish ko'rsatilgan.\n",
    "\n"
   ]
  },
  {
   "cell_type": "code",
   "execution_count": null,
   "metadata": {},
   "outputs": [],
   "source": [
    "def avto_info(kompaniya,model,**malumotlar):\n",
    "    \"\"\"Avto haqidagi ma'lumotlarni lug'at ko'rinishdia qaytaruvchi funksiya\"\"\"\n",
    "    malumotlar['kompaniya']=kompaniya #majburiy argumentlar lug'atga qo'shilyapti\n",
    "    malumotlar['model']=model\n",
    "    return malumotlar"
   ]
  },
  {
   "cell_type": "markdown",
   "metadata": {},
   "source": [
    "Istalgancha sonlarni qabul qilib, ularning ko'paytmasini qaytaruvchi funksiya yozing"
   ]
  },
  {
   "cell_type": "code",
   "execution_count": 3,
   "metadata": {},
   "outputs": [
    {
     "data": {
      "text/plain": [
       "24"
      ]
     },
     "execution_count": 3,
     "metadata": {},
     "output_type": "execute_result"
    }
   ],
   "source": [
    "def kopaytir(*sonlar):\n",
    "    kopaytma = 1\n",
    "    for son in sonlar:\n",
    "        kopaytma*=son\n",
    "    return kopaytma\n",
    "\n",
    "kopaytir(2,3,4)\n"
   ]
  },
  {
   "cell_type": "markdown",
   "metadata": {},
   "source": [
    "Talabalar haqidagi ma'lumotlarini lug'at ko'rinishida qaytaruvchi funkisya yozing. Talabaning ismi va familiyasi majburiy argument, qolgan ma'lumotlar esa ixtiyoriy ko'rinishda istalgancha berilishi mumkin bo'lsin."
   ]
  },
  {
   "cell_type": "code",
   "execution_count": 4,
   "metadata": {},
   "outputs": [
    {
     "data": {
      "text/plain": [
       "{'t_yil': 2002, 't_joy': 'Namangan', 'ism': 'Kamronbek', 'familiya': 'Solih'}"
      ]
     },
     "execution_count": 4,
     "metadata": {},
     "output_type": "execute_result"
    }
   ],
   "source": [
    "def talaba(ism, familiya,**malumotlar):\n",
    "    malumotlar[\"ism\"] = ism\n",
    "    malumotlar[\"familiya\"] = familiya\n",
    "\n",
    "    return malumotlar\n",
    "talaba(\"Kamronbek\",\"Solih\",t_yil=2002,t_joy = \"Namangan\")"
   ]
  },
  {
   "cell_type": "code",
   "execution_count": 8,
   "metadata": {},
   "outputs": [
    {
     "data": {
      "text/plain": [
       "False"
      ]
     },
     "execution_count": 8,
     "metadata": {},
     "output_type": "execute_result"
    }
   ],
   "source": [
    "def valid_braces(matn):\n",
    "  if matn.count(\"(\") == matn.count(\")\") and matn.count(\"[\") == matn.count(\"]\") and matn.count(\"{\") == matn.count(\"}\"):\n",
    "    return True\n",
    "  else:\n",
    "    return False\n",
    "valid_braces(\"(}\" )"
   ]
  }
 ],
 "metadata": {
  "kernelspec": {
   "display_name": "Python 3",
   "language": "python",
   "name": "python3"
  },
  "language_info": {
   "codemirror_mode": {
    "name": "ipython",
    "version": 3
   },
   "file_extension": ".py",
   "mimetype": "text/x-python",
   "name": "python",
   "nbconvert_exporter": "python",
   "pygments_lexer": "ipython3",
   "version": "3.10.7"
  },
  "orig_nbformat": 4
 },
 "nbformat": 4,
 "nbformat_minor": 2
}
