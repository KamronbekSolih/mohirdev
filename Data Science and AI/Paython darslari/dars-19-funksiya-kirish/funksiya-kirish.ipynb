{
 "cells": [
  {
   "cell_type": "code",
   "execution_count": 3,
   "metadata": {},
   "outputs": [
    {
     "name": "stdout",
     "output_type": "stream",
     "text": [
      "Kamronbek siz 2002  yilda tug'ilgansiz.\n"
     ]
    }
   ],
   "source": [
    "def tyil_hisobla(ism,yosh,joriy_yil=2023):\n",
    "    \"\"\"Foydalanuvchidan ismini, yoshini va joriy yilni qabul qilib\n",
    "      unga tug'ilgan yilini qaytarib chiqaradigan funktsiya. Joriy yil kiritilmasa 2023 deb olinadi.\"\"\"\n",
    "    \n",
    "    print(f'{ism.title()} siz {joriy_yil - yosh} yilda tug\\'ilgansiz.')\n",
    "tyil_hisobla('kamronbek',21)\n",
    "    "
   ]
  },
  {
   "cell_type": "markdown",
   "metadata": {},
   "source": [
    "Foydalanuvchi ismi va yoshini so'rab, uning tug'ilgan yilini hisoblaydigan funksiya yozing."
   ]
  },
  {
   "cell_type": "code",
   "execution_count": 5,
   "metadata": {},
   "outputs": [
    {
     "name": "stdout",
     "output_type": "stream",
     "text": [
      "2002ning kavdrati 4008004ga va kubi 8024024008ga teng.\n"
     ]
    }
   ],
   "source": [
    "def kv_kub_oshir(son):\n",
    "    \"\"\"Foydalanuvchi kiritgan sonni kadrati va kubini hisoblovchi funktsiya\"\"\"\n",
    "    print(f\"{son}ning kavdrati {son**2}ga va kubi {son**3}ga teng.\")\n",
    "\n",
    "kv_kub_oshir(2002)"
   ]
  },
  {
   "cell_type": "markdown",
   "metadata": {},
   "source": [
    "Foydalanuvchidan son olib, uning kvadrati va kubini konsolga chiqaruvchi funksiya yozing."
   ]
  },
  {
   "cell_type": "code",
   "execution_count": 7,
   "metadata": {},
   "outputs": [
    {
     "data": {
      "text/plain": [
       "'juft'"
      ]
     },
     "execution_count": 7,
     "metadata": {},
     "output_type": "execute_result"
    }
   ],
   "source": [
    "def juft_toq_aniqla(son):\n",
    "    '''Foydalanuvchi kiritgan sonni juft yoki toqligini aniqlovchi funktsiya'''\n",
    "    if son%2 == 0:\n",
    "        return 'juft'\n",
    "    else:\n",
    "        return 'toq'\n",
    "    \n",
    "juft_toq_aniqla(312)\n"
   ]
  },
  {
   "cell_type": "markdown",
   "metadata": {},
   "source": [
    "Foydalanuvchidan son olib, son juft yoki toqligini konsolga chiqaruvchi funksiya yozing."
   ]
  },
  {
   "cell_type": "code",
   "execution_count": 8,
   "metadata": {},
   "outputs": [
    {
     "data": {
      "text/plain": [
       "'a<b'"
      ]
     },
     "execution_count": 8,
     "metadata": {},
     "output_type": "execute_result"
    }
   ],
   "source": [
    "def solishtir(a,b):\n",
    "    \"\"\"Foydalanuvchidan ikkita qiymat olib bir biriga solishtiradigan funksiya\"\"\"\n",
    "    if a>b:\n",
    "        return 'a>b'\n",
    "    elif a<b:\n",
    "        return 'a<b'\n",
    "    else:\n",
    "        return 'a==b'\n",
    "    \n",
    "solishtir(15,17)"
   ]
  },
  {
   "cell_type": "markdown",
   "metadata": {},
   "source": [
    "Foydalanuvchidan ikkita son olib, ulardan kattasini konsolga chiqaruvchi funksiya yozing. \n",
    "Agar sonlar teng bo'lsa \"Sonlar teng\" degan xabarni chiqaring."
   ]
  },
  {
   "cell_type": "code",
   "execution_count": 10,
   "metadata": {},
   "outputs": [
    {
     "name": "stdout",
     "output_type": "stream",
     "text": [
      "x*y ni kvadrat ildizdan chiqarsak 6.0 ga teng\n"
     ]
    }
   ],
   "source": [
    "def kv_ildiz_chiqar(x,y):\n",
    "    import math\n",
    "    '''Foydalanuvchidan x va y qiymatlarni qabul qilib \n",
    "    ularaning ko'paytmasini kvadrat ildizdan chiqaradigan dastur'''\n",
    "    print(f\"x*y ni kvadrat ildizdan chiqarsak {math.sqrt(x*y)} ga teng\")\n",
    "\n",
    "kv_ildiz_chiqar(4,9)"
   ]
  },
  {
   "cell_type": "markdown",
   "metadata": {},
   "source": [
    "Foydalanuvchidan x va y sonlarini olib, ni konsolga chiqaruvchi funksiya yozing."
   ]
  },
  {
   "cell_type": "code",
   "execution_count": null,
   "metadata": {},
   "outputs": [],
   "source": [
    "def kv_ildiz_chiqar(x,y=4):\n",
    "    import math\n",
    "    '''Foydalanuvchidan x va y qiymatlarni qabul qilib \n",
    "    ularaning ko'paytmasini kvadrat ildizdan chiqaradigan dastur. y ning boshlang\\'ich qiymati 4.'''\n",
    "    print(f\"x*y ni kvadrat ildizdan chiqarsak {math.sqrt(x*y)} ga teng\")"
   ]
  },
  {
   "cell_type": "markdown",
   "metadata": {},
   "source": [
    "Yuqoridagi funksiyada y uchun 2 standart qiymatini bering."
   ]
  },
  {
   "cell_type": "code",
   "execution_count": 12,
   "metadata": {},
   "outputs": [
    {
     "data": {
      "text/plain": [
       "\"10 soni [2, 5, 10] sonlarga qoldiqsiz, [3, 4, 6, 7, 8, 9] sonlarga qoldiqli bo'linadi\""
      ]
     },
     "execution_count": 12,
     "metadata": {},
     "output_type": "execute_result"
    }
   ],
   "source": [
    "def qoldiqsiz_bul(a):\n",
    "    \"\"\"Foydalanuvchidan son qabul qilib, sonni 2 dan 10 gacha bo'lgan sonlarga qoldiqsiz bo'linishini tekshiruvchi funksiya\"\"\"\n",
    "    qoldiqli = []\n",
    "    qoldiqsiz = []\n",
    "    for i in range(2,11):\n",
    "        if a%i == 0:\n",
    "            qoldiqsiz.append(i)\n",
    "        else:\n",
    "            qoldiqli.append(i)\n",
    "    return f\"{a} soni {qoldiqsiz} sonlarga qoldiqsiz, {qoldiqli} sonlarga qoldiqli bo'linadi\"\n",
    "qoldiqsiz_bul(10)"
   ]
  },
  {
   "cell_type": "markdown",
   "metadata": {},
   "source": [
    "Foydalanuvchidan son qabul qilib, sonni 2 dan 10 gacha bo'lgan sonlarga qoldiqsiz bo'linishini tekshiruvchi funksiya yozing. Natijalarni konsolga chiqaring."
   ]
  }
 ],
 "metadata": {
  "kernelspec": {
   "display_name": "Python 3",
   "language": "python",
   "name": "python3"
  },
  "language_info": {
   "codemirror_mode": {
    "name": "ipython",
    "version": 3
   },
   "file_extension": ".py",
   "mimetype": "text/x-python",
   "name": "python",
   "nbconvert_exporter": "python",
   "pygments_lexer": "ipython3",
   "version": "3.10.7"
  },
  "orig_nbformat": 4
 },
 "nbformat": 4,
 "nbformat_minor": 2
}
