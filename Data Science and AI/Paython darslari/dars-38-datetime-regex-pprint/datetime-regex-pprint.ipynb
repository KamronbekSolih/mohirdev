{
 "cells": [
  {
   "cell_type": "code",
   "execution_count": 5,
   "metadata": {},
   "outputs": [
    {
     "name": "stdout",
     "output_type": "stream",
     "text": [
      "2023-08-04 19:44:52.864438\n",
      "4\n"
     ]
    }
   ],
   "source": [
    "import datetime as dt\n",
    "\n",
    "hozir = dt.datetime.now()\n",
    "\n",
    "print(hozir)\n",
    "\n",
    "print(hozir.day)\n",
    "\n",
    "\n"
   ]
  },
  {
   "cell_type": "markdown",
   "metadata": {},
   "source": [
    "Bugungi sanadan boshlab 2 hafta farq bilan 10 ta sanani konsolga chiqaring"
   ]
  },
  {
   "cell_type": "code",
   "execution_count": 32,
   "metadata": {},
   "outputs": [
    {
     "name": "stdout",
     "output_type": "stream",
     "text": [
      "kun: 18, oy: 8, yil: 2023\n",
      "kun: 1, oy: 9, yil: 2023\n",
      "kun: 15, oy: 9, yil: 2023\n",
      "kun: 29, oy: 9, yil: 2023\n",
      "kun: 12, oy: 10, yil: 2023\n",
      "kun: 26, oy: 10, yil: 2023\n",
      "kun: 9, oy: 11, yil: 2023\n",
      "kun: 23, oy: 11, yil: 2023\n",
      "kun: 6, oy: 12, yil: 2023\n",
      "kun: 20, oy: 12, yil: 2023\n"
     ]
    }
   ],
   "source": [
    "import datetime as dt\n",
    "hozir = dt.datetime.now()\n",
    "kun = hozir.day\n",
    "oy = hozir.month\n",
    "yil = hozir.year\n",
    "i = 1\n",
    "day = 14\n",
    "while i <= 10:\n",
    "    while True:\n",
    "        # print(f\"kun: {kun}, day: {day}\")\n",
    "        kun += day\n",
    "        if oy%2==0:\n",
    "            if kun > 31:\n",
    "                # print(f\"kun: {kun}, oy: {oy}, yil: {yil}\")\n",
    "                oy += 1\n",
    "                kun -= 31\n",
    "                # print(f\"kun: {kun}, oy: {oy}, yil: {yil}\")\n",
    "                \n",
    "        else:\n",
    "            if kun > 30:\n",
    "                oy += 1\n",
    "                kun -= 31\n",
    "        if oy>12:\n",
    "            yil += 1\n",
    "            oy = 1\n",
    "        # print(f\"kun: {kun}, oy: {oy}, yil: {yil}\")\n",
    "        break\n",
    "    print(f\"kun: {kun}, oy: {oy}, yil: {yil}\")\n",
    "    i += 1\n"
   ]
  },
  {
   "cell_type": "code",
   "execution_count": 28,
   "metadata": {},
   "outputs": [
    {
     "name": "stdout",
     "output_type": "stream",
     "text": [
      "Ertangi sana: -774 days, 0:00:00\n"
     ]
    }
   ],
   "source": [
    "ertaga = dt.date(2021, 6, 21)\n",
    "bugun = dt.date.today()\n",
    "qurbonHayit = dt.date(2021, 7, 19)\n",
    "print(f\"Ertangi sana: {ertaga-bugun}\")"
   ]
  },
  {
   "cell_type": "code",
   "execution_count": 35,
   "metadata": {},
   "outputs": [
    {
     "name": "stdout",
     "output_type": "stream",
     "text": [
      "Oy: 8, kun: 32\n",
      "Oy: 9, kun: 43\n",
      "Oy: 10, kun: 41\n",
      "Oy: 11, kun: 38\n"
     ]
    }
   ],
   "source": [
    "import datetime as dt\n",
    "\n",
    "hozir = dt.datetime.now()\n",
    "kun = hozir.day\n",
    "oy = hozir.month\n",
    "yil = hozir.year\n",
    "i = 1\n",
    "day = 14\n",
    "\n",
    "while i <= 10:\n",
    "    kun += day\n",
    "    if oy % 2 == 0:\n",
    "        if kun > 31:\n",
    "            print(f\"Oy: {oy}, kun: {kun}\")\n",
    "            oy += 1\n",
    "            kun -= 31\n",
    "    else:\n",
    "        if kun > 30:\n",
    "            print(f\"Oy: {oy}, kun: {kun}\")\n",
    "            oy += 1\n",
    "            kun -= 30\n",
    "    if oy > 12:\n",
    "        yil += 1\n",
    "        oy = 1\n",
    "\n",
    "    # print(f\"kun: {kun}, oy: {oy}, yil: {yil}\")\n",
    "    i += 1\n"
   ]
  },
  {
   "cell_type": "code",
   "execution_count": 50,
   "metadata": {},
   "outputs": [
    {
     "name": "stdout",
     "output_type": "stream",
     "text": [
      "Ramazon Hayitigacha 250 kun qoldi, Qurbon Hayitigacha 318 kun qoldi\n"
     ]
    }
   ],
   "source": [
    "bugun = dt.date.today()\n",
    "ramazonHayitigacha = dt.date(2024,4,10) - bugun\n",
    "qurbonHayitigacha = dt.date(2024,6,17) - bugun\n",
    "\n",
    "print(f\"Ramazon Hayitigacha {ramazonHayitigacha.days} kun qoldi, Qurbon Hayitigacha {qurbonHayitigacha.days} kun qoldi\")"
   ]
  },
  {
   "cell_type": "markdown",
   "metadata": {},
   "source": [
    "Ramazon va qurbon hayitigacha qolgan kunlarni konsolga chiqaring"
   ]
  },
  {
   "cell_type": "code",
   "execution_count": 56,
   "metadata": {},
   "outputs": [
    {
     "data": {
      "text/plain": [
       "\"20 yil, yoki 240 oy, yoki 7546 kundan beri shu yorug' dunyodaman\""
      ]
     },
     "execution_count": 56,
     "metadata": {},
     "output_type": "execute_result"
    }
   ],
   "source": [
    "def hayot(t_kun,t_oy,t_yil):\n",
    "    bugun = dt.date.today()\n",
    "    tugilgan_kunim = dt.date(t_yil,t_oy,t_kun)\n",
    "    umrim = bugun - tugilgan_kunim\n",
    "    yillar = umrim.days//360\n",
    "    oylar = yillar*12\n",
    "    return f\"{yillar} yil, yoki {oylar} oy, yoki {umrim.days} kundan beri shu yorug' dunyodaman\"\n",
    "\n",
    "hayot(6,12,2002)"
   ]
  },
  {
   "cell_type": "markdown",
   "metadata": {},
   "source": [
    "Tug'ilgan kuningizdan bugungi sanagacha qancha yil, oy, kun o'tganini qaytaruvchi funksiya yozing"
   ]
  },
  {
   "cell_type": "code",
   "execution_count": 57,
   "metadata": {},
   "outputs": [
    {
     "name": "stdout",
     "output_type": "stream",
     "text": [
      "Raqamingiz muaffaqiyatli ro'yxatdan o'tkazildi!\n"
     ]
    }
   ],
   "source": [
    "import re\n",
    "raqam = input(\"Telefon raqamingizni kiriting: \")\n",
    "andoza = \"^[\\+]?[(]?[0-9]{3}[)]?[-\\s\\.]?[0-9]{3}[-\\s\\.]?[0-9]{4,6}$\"\n",
    "\n",
    "if re.match(andoza,raqam):\n",
    "    print(\"Raqamingiz muaffaqiyatli ro'yxatdan o'tkazildi!\")\n",
    "else:\n",
    "    print(\"Telefon raqam xato kiritildi.\")\n"
   ]
  },
  {
   "cell_type": "markdown",
   "metadata": {},
   "source": [
    "Foydalanuvchidan telefon raqamini kiritishni so'rang. Kiritlgan qiymatni andoza yordamida tekshiring"
   ]
  },
  {
   "cell_type": "code",
   "execution_count": 61,
   "metadata": {},
   "outputs": [
    {
     "name": "stdout",
     "output_type": "stream",
     "text": [
      "[]\n"
     ]
    }
   ],
   "source": [
    "import re\n",
    "text = \"\"\"Assalom alaykum hurmatli do'stlar. Navbatdagi darsimiz YouTubega yuklandi: https://youtube/vsxJPRLXp\"\"\"\n",
    "pattern = \"https?:\\/\\/(www\\.)?[-a-zA-Z0-9@:%._\\+~#=]{1,256}\\.[a-zA-Z0-9()]{1,6}\\b([-a-zA-Z0-9()!@:%_\\+.~#?&\\/\\/=]*)\"\n",
    "\n",
    "url_adress = re.findall(pattern,text)\n",
    "\n",
    "print(url_adress)"
   ]
  },
  {
   "cell_type": "markdown",
   "metadata": {},
   "source": [
    "Berilgan matndan veb sahifa manzilini ajratib olyuvchi funksiya yozing. Quyidagi matndan namuna sifatida foydalanishingiz mumkin:"
   ]
  },
  {
   "cell_type": "code",
   "execution_count": 67,
   "metadata": {},
   "outputs": [
    {
     "name": "stdout",
     "output_type": "stream",
     "text": [
      "[('', '/vsxJPRLXp')]\n"
     ]
    }
   ],
   "source": [
    "import re\n",
    "\n",
    "text = \"\"\"Assalom alaykum hurmatli do'stlar. Navbatdagi darsimiz YouTubega yuklandi: https://youtube.com/vsxJPRLXp\"\"\"\n",
    "\n",
    "pattern = r\"https?:\\/\\/(www\\.)?[-a-zA-Z0-9@:%._\\+~#=]{1,256}\\.[a-zA-Z0-9()]{1,6}\\b([-a-zA-Z0-9()!@:%_\\+.~#?&\\/\\/=]*)\"\n",
    "\n",
    "url_addresses = re.findall(pattern, text)\n",
    "\n",
    "print(url_addresses)\n"
   ]
  },
  {
   "cell_type": "code",
   "execution_count": null,
   "metadata": {},
   "outputs": [],
   "source": [
    "def cut_the_ropes(ropes):\n",
    "    len_ropes = len(ropes)\n",
    "    cutted_ropes = []\n",
    "    for rope in ropes:\n",
    "        cutted_ropes.append(rope - min(ropes))"
   ]
  },
  {
   "cell_type": "code",
   "execution_count": null,
   "metadata": {},
   "outputs": [],
   "source": [
    "def cut_the_ropes(ropes):\n",
    "    lens = []\n",
    "\n",
    "    while all(ropes):\n",
    "        lens.append(len(ropes))\n",
    "        try:\n",
    "            shortest = min(ropes)\n",
    "        except:\n",
    "            break\n",
    "        \n",
    "        for i in range(len(ropes)):\n",
    "                    ropes[i] = ropes[i]-shortest\n",
    "        ropes = [i for i in ropes if i != 0]\n",
    "    lens.pop()\n",
    "\n",
    "    return lens"
   ]
  },
  {
   "cell_type": "code",
   "execution_count": 4,
   "metadata": {},
   "outputs": [
    {
     "name": "stdout",
     "output_type": "stream",
     "text": [
      "false\n"
     ]
    }
   ],
   "source": [
    "if all([0,0,0]):\n",
    "    print(\"true\")\n",
    "else:\n",
    "    print(\"false\")"
   ]
  },
  {
   "cell_type": "code",
   "execution_count": 20,
   "metadata": {},
   "outputs": [
    {
     "name": "stdout",
     "output_type": "stream",
     "text": [
      "lens are [5, 4, 2, 1]\n"
     ]
    }
   ],
   "source": [
    "\n",
    "ropes = [3, 3, 2, 9, 7]\n",
    "lens = []\n",
    "\n",
    "while all(ropes):\n",
    "    lens.append(len(ropes))\n",
    "    try:\n",
    "        shortest = min(ropes)\n",
    "    except:\n",
    "         break\n",
    "    \n",
    "    for i in range(len(ropes)):\n",
    "                ropes[i] = ropes[i]-shortest\n",
    "    ropes = [i for i in ropes if i != 0]\n",
    "    \n",
    "lens.pop()\n",
    "print(f\"lens are {lens}\")"
   ]
  },
  {
   "cell_type": "code",
   "execution_count": 21,
   "metadata": {},
   "outputs": [
    {
     "data": {
      "text/plain": [
       "[5, 4, 2, 1]"
      ]
     },
     "execution_count": 21,
     "metadata": {},
     "output_type": "execute_result"
    }
   ],
   "source": [
    "def cut_the_ropes(ropes):\n",
    "    lens = []  # for storing number of left ropes after every cutting\n",
    "\n",
    "    while ropes:  # if ropes list is not empty\n",
    "        lens.append(len(ropes))\n",
    "        shortest = min(ropes)  # find the shortest rope\n",
    "\n",
    "        for i in range(len(ropes)):\n",
    "            ropes[i] -= shortest  # subtracting minimum length from each element\n",
    "\n",
    "        ropes = [i for i in ropes if i != 0]  # remove 0-length ropes from the list\n",
    "\n",
    "    return lens\n",
    "cut_the_ropes([3, 3, 2, 9, 7])"
   ]
  }
 ],
 "metadata": {
  "kernelspec": {
   "display_name": "Python 3",
   "language": "python",
   "name": "python3"
  },
  "language_info": {
   "codemirror_mode": {
    "name": "ipython",
    "version": 3
   },
   "file_extension": ".py",
   "mimetype": "text/x-python",
   "name": "python",
   "nbconvert_exporter": "python",
   "pygments_lexer": "ipython3",
   "version": "3.10.7"
  },
  "orig_nbformat": 4
 },
 "nbformat": 4,
 "nbformat_minor": 2
}
