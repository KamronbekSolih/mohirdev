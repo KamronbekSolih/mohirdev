{
 "cells": [
  {
   "cell_type": "code",
   "execution_count": 38,
   "metadata": {},
   "outputs": [
    {
     "name": "stdout",
     "output_type": "stream",
     "text": [
      "a:0.1, b:1.48, c:1.56\n"
     ]
    },
    {
     "data": {
      "text/plain": [
       "1"
      ]
     },
     "execution_count": 38,
     "metadata": {},
     "output_type": "execute_result"
    }
   ],
   "source": [
    "import math\n",
    "\n",
    "def triangle_type(a, b, c):\n",
    "\n",
    "    if a+b>c and b+c>a and c+a>b:\n",
    "            angle_a = round(math.acos((b**2+c**2-a**2)/(2*b*c)),2) #calculating an angle with cosine formula\n",
    "            angle_b = round(math.acos((a**2+c**2-b**2)/(2*a*c)),2)\n",
    "            angle_c = round(math.pi - angle_a - angle_b,2)\n",
    "            r_dgr = round(math.pi/2,2)\n",
    "            print(f\"a:{angle_a}, b:{angle_b}, c:{angle_c}\")\n",
    "            if angle_a <r_dgr and angle_b< r_dgr and angle_c<r_dgr: #acute\n",
    "                return 1\n",
    "            elif angle_a == r_dgr or angle_b  == r_dgr  or angle_c == r_dgr: #right\n",
    "                return 2\n",
    "            elif angle_a > r_dgr or angle_b > r_dgr  or angle_c > r_dgr: #obtuse\n",
    "                return 3\n",
    "            else:\n",
    "                return 0\n",
    "    else:\n",
    "        return 0\n",
    "    \n",
    "\n",
    "    \n",
    "\n",
    "    \n",
    "\n",
    "\n",
    "triangle_type(21, 220, 221)"
   ]
  },
  {
   "cell_type": "markdown",
   "metadata": {},
   "source": [
    "Created 3/8/2023, by Kamronbek Solih\n",
    "link to the kata:\n",
    "https://www.codewars.com/kata/53907ac3cd51b69f790006c5/python\n",
    "level: 6 kyu\n",
    "problem:\n",
    "\n",
    "n this kata, you should calculate type of triangle with three given sides a, b and c (given in any order).\n",
    "\n",
    "If all angles are less than 90°, this triangle is acute and function should return 1.\n",
    "\n",
    "If one angle is strictly 90°, this triangle is right and function should return 2.\n",
    "\n",
    "If one angle more than 90°, this triangle is obtuse and function should return 3.\n",
    "\n",
    "If three sides cannot form triangle, or one angle is 180° (which turns triangle into segment) - function should return 0.\n",
    "\n",
    "Input parameters are sides of given triangle. All input values are non-negative floating point or integer numbers (or both)."
   ]
  },
  {
   "cell_type": "code",
   "execution_count": null,
   "metadata": {},
   "outputs": [],
   "source": [
    "#Best solutiopn from codewars\n",
    "\n",
    "def triangle_type(a, b, c):\n",
    "  x,y,z = sorted([a,b,c])\n",
    "  if z >= x + y: return 0\n",
    "  if z*z == x*x + y*y: return 2\n",
    "  return 1 if z*z < x*x + y*y else 3"
   ]
  },
  {
   "cell_type": "code",
   "execution_count": null,
   "metadata": {},
   "outputs": [],
   "source": [
    "#Another elegant approach from codewarriors\n",
    "\n",
    "def triangle_type(a, b, c):\n",
    "  a,b,c = sorted((a,b,c))\n",
    "  if a+b <= c: return 0\n",
    "  t = a**2+b**2 - c**2\n",
    "  if t > 0: return 1\n",
    "  if t == 0: return 2\n",
    "  else: return 3"
   ]
  },
  {
   "cell_type": "markdown",
   "metadata": {},
   "source": [
    "My testing calculationsa are below"
   ]
  },
  {
   "cell_type": "code",
   "execution_count": 40,
   "metadata": {},
   "outputs": [
    {
     "name": "stdout",
     "output_type": "stream",
     "text": [
      "1.5707963267948966\n",
      "2\n",
      "1\n",
      "1.57\n"
     ]
    }
   ],
   "source": [
    "r_dgr = math.pi/2\n",
    "print(r_dgr)\n",
    "print(math.ceil(math.pi/2))\n",
    "print(math.floor(math.pi/2))\n",
    "print(round(math.pi/2,2))"
   ]
  },
  {
   "cell_type": "code",
   "execution_count": 3,
   "metadata": {},
   "outputs": [
    {
     "name": "stdout",
     "output_type": "stream",
     "text": [
      "0.6435011087932843\n"
     ]
    }
   ],
   "source": [
    "a = 3\n",
    "b = 4\n",
    "c = 5\n",
    "angle_a = math.acos((b**2+c**2-a**2)/(2*b*c))\n",
    "print(angle_a )"
   ]
  },
  {
   "cell_type": "code",
   "execution_count": 43,
   "metadata": {},
   "outputs": [
    {
     "data": {
      "text/plain": [
       "220"
      ]
     },
     "execution_count": 43,
     "metadata": {},
     "output_type": "execute_result"
    }
   ],
   "source": [
    "def triangle_type(a, b, c):\n",
    "    sides = [a,b,c]\n",
    "    a = sides.pop(sides.index(min(sides)))\n",
    "    c = sides.pop(sides.index(max(sides)))\n",
    "    b = sides.pop()\n",
    "\n",
    "    return b\n",
    "triangle_type(21, 220, 221)"
   ]
  },
  {
   "cell_type": "code",
   "execution_count": 46,
   "metadata": {},
   "outputs": [
    {
     "name": "stdout",
     "output_type": "stream",
     "text": [
      "a:21, b:220, c:221\n"
     ]
    }
   ],
   "source": [
    "a,b,c = sorted([21, 220, 221])\n",
    "print(f'a:{a}, b:{b}, c:{c}')"
   ]
  }
 ],
 "metadata": {
  "kernelspec": {
   "display_name": "Python 3",
   "language": "python",
   "name": "python3"
  },
  "language_info": {
   "codemirror_mode": {
    "name": "ipython",
    "version": 3
   },
   "file_extension": ".py",
   "mimetype": "text/x-python",
   "name": "python",
   "nbconvert_exporter": "python",
   "pygments_lexer": "ipython3",
   "version": "3.10.7"
  },
  "orig_nbformat": 4
 },
 "nbformat": 4,
 "nbformat_minor": 2
}
