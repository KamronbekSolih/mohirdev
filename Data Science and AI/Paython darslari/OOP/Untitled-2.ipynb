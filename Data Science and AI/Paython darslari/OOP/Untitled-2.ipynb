{
 "cells": [
  {
   "cell_type": "code",
   "execution_count": 2,
   "metadata": {},
   "outputs": [],
   "source": [
    "class User:\n",
    "    def __init__(self,ism, foydalanuvchi_nomi, email, telefon):\n",
    "        self.ism = ism\n",
    "        self.foydalanuvchi_nomi = foydalanuvchi_nomi\n",
    "        self.email = email\n",
    "        self.telefon = telefon\n",
    "\n",
    "    def get_name(self):\n",
    "        return self.ism\n",
    "    \n",
    "    def get_info(self):\n",
    "        return f\"Foydalanuvchi: {self.ism}, foydalanuvchi nomi: {self.foydalanuvchi_nomi}, email: {self.email}, telefon: {self.telefon}\"\n",
    "\n",
    "        "
   ]
  },
  {
   "cell_type": "markdown",
   "metadata": {},
   "source": [
    "Web sahifangiz uchun foydalanuvchi (user) klassini tuzing. Klassning xususiyatlari sifatida odatda ijtimoiy tarmoqlar talab qiladigan ma'lumotlarni kiriting (ism, foydalanuvchi ismi, email, va hokazo)"
   ]
  },
  {
   "cell_type": "code",
   "execution_count": 3,
   "metadata": {},
   "outputs": [],
   "source": [
    "foydalanuvchi1 = User(\"Doston\",\"Dostonbek_Gofurjonov\",\"dostongourjon@gmail.com\",\"+998999108131\")"
   ]
  },
  {
   "cell_type": "code",
   "execution_count": 5,
   "metadata": {},
   "outputs": [
    {
     "data": {
      "text/plain": [
       "'Foydalanuvchi: Doston, foydalanuvchi nomi: Dostonbek_Gofurjonov, email: dostongourjon@gmail.com, telefon: +998999108131'"
      ]
     },
     "execution_count": 5,
     "metadata": {},
     "output_type": "execute_result"
    }
   ],
   "source": [
    "foydalanuvchi1.get_info()"
   ]
  },
  {
   "cell_type": "code",
   "execution_count": 3,
   "metadata": {},
   "outputs": [],
   "source": [
    "class Avto:\n",
    "    def __init__(self,model,rang,karobka,narx):\n",
    "        self.model = model\n",
    "        self.rang = rang\n",
    "        self.karobka = karobka  \n",
    "        self.narx = narx\n",
    "        self.kilometr = 0\n",
    "\n",
    "    def get_info(self):\n",
    "        return f\"Model:{self.model}  Rang: {self.rang} Karobka: {self.karobka} Narx: {self.narx}\"\n",
    "    \n",
    "    def get_model(self):\n",
    "        return self.model\n",
    "    \n",
    "    def update_km(self,new_km):\n",
    "        self.kilometr = new_km\n",
    "        if new_km>=1000:\n",
    "            self.update_narx()\n",
    "\n",
    "    def update_narx(self):\n",
    "        self.narx -=1000"
   ]
  },
  {
   "cell_type": "markdown",
   "metadata": {},
   "source": [
    "Avto degan yangi klass yarating. Unga avtomobillarga doir bo'lgan bir nechta xususiyatlar (model, rang, korobka, narh va hokazo) qo'shing. Ayrim xususiyatlarga standart qiymat bering (masalan, kilometer=0)"
   ]
  },
  {
   "cell_type": "markdown",
   "metadata": {},
   "source": [
    "Avto ga oid obyektning xususiyatlarini qaytaradigan metodlar yozing\n",
    "get_info() metodi avto haqida to'liq ma'lumotni matn ko'rinishida qaytarsin"
   ]
  },
  {
   "cell_type": "markdown",
   "metadata": {},
   "source": [
    "Avto ga oid obyektning xususiyatlarini yangilaydigan metodlar yozing.\n",
    "update_km() metodi son qabul qilib olib, avtomobilning yurgan kilometrajini yangilab borsin"
   ]
  },
  {
   "cell_type": "code",
   "execution_count": 4,
   "metadata": {},
   "outputs": [
    {
     "data": {
      "text/plain": [
       "'Model:Gentra  Rang: qora Karobka: avotat Narx: 17900'"
      ]
     },
     "execution_count": 4,
     "metadata": {},
     "output_type": "execute_result"
    }
   ],
   "source": [
    "avto1 = Avto(\"Malibu\",\"qora\",\"avtomat\",30000)\n",
    "avto2 = Avto(\"Gentra\",\"qora\",\"avotat\",17900)\n",
    "avto3 = Avto(\"Captiva 2\", \"oq\", \"mexanika\", 14200)\n",
    "\n",
    "avto2.get_info()"
   ]
  },
  {
   "cell_type": "markdown",
   "metadata": {},
   "source": [
    "Yangi, Avtosalon degan klass yarating va kerakli xususiyatlar bilan to'ldiring (salon nomi, manzili, sotuvdagi avtomobillar va hokazo)Yangi, Avtosalon degan klass yarating va kerakli xususiyatlar bilan to'ldiring (salon nomi, manzili, sotuvdagi avtomobillar va hokazo)\n",
    "\n",
    "Avtosalondagi avtomobillar haqida ma'lumot qaytaruvchi metod yozing"
   ]
  },
  {
   "cell_type": "code",
   "execution_count": 6,
   "metadata": {},
   "outputs": [
    {
     "data": {
      "text/plain": [
       "\"Salonimizda ['Malibu', 'Gentra', 'Captiva 2'] mashinalar bor\""
      ]
     },
     "execution_count": 6,
     "metadata": {},
     "output_type": "execute_result"
    }
   ],
   "source": [
    "class Avtosalon:\n",
    "    def __init__(self, salon_nomi,manzil):\n",
    "        self.salon_nomi = salon_nomi\n",
    "        self.manzil = manzil\n",
    "        self.mavjud_avtolar = []\n",
    "\n",
    "    def avto_qosh(self,new_avto):\n",
    "        self.mavjud_avtolar.append(new_avto)\n",
    "\n",
    "    def get_avtolar(self):\n",
    "        return f\"Salonimizda {[avto.get_model() for avto in self.mavjud_avtolar]} mashinalar bor\"\n",
    "    \n",
    "avtosalon1 = Avtosalon(\"Drivers Village\", \"Sergeli\")\n",
    "avtosalon2  = Avtosalon(\"Toshkent Auto Dealer\",\"Sergeli\")\n",
    "\n",
    "avtosalon1.avto_qosh(avto1)\n",
    "avtosalon1.avto_qosh(avto2)\n",
    "avtosalon1.avto_qosh(avto3)\n",
    "\n",
    "avtosalon1.get_avtolar()\n",
    "        "
   ]
  },
  {
   "cell_type": "code",
   "execution_count": 11,
   "metadata": {},
   "outputs": [
    {
     "data": {
      "text/plain": [
       "{'model': 'Malibu',\n",
       " 'rang': 'qora',\n",
       " 'karobka': 'avtomat',\n",
       " 'narx': 30000,\n",
       " 'kilometr': 0}"
      ]
     },
     "execution_count": 11,
     "metadata": {},
     "output_type": "execute_result"
    }
   ],
   "source": [
    "avto1.__dict__"
   ]
  }
 ],
 "metadata": {
  "kernelspec": {
   "display_name": "Python 3",
   "language": "python",
   "name": "python3"
  },
  "language_info": {
   "codemirror_mode": {
    "name": "ipython",
    "version": 3
   },
   "file_extension": ".py",
   "mimetype": "text/x-python",
   "name": "python",
   "nbconvert_exporter": "python",
   "pygments_lexer": "ipython3",
   "version": "3.10.7"
  },
  "orig_nbformat": 4
 },
 "nbformat": 4,
 "nbformat_minor": 2
}
