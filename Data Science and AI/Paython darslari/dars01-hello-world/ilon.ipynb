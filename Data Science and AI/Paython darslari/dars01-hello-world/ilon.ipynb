# -*- coding: utf-8 -*-
"""
Created on Fri Jun 23 12:27:59 2023

@author: user
"""
