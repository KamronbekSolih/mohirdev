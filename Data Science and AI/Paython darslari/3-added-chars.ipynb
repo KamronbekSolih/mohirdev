{
 "cells": [
  {
   "cell_type": "markdown",
   "metadata": {},
   "source": [
    "4/8/2023\n",
    "author: Kamronbek Solih\n",
    "link to the kata: https://www.codewars.com/kata/5971b219d5db74843a000052/python\n",
    "Problem description:\n",
    "Given two strings, the first being a random string and the second being the same as the first, but with three added characters somewhere in the string (three same characters),\n",
    "\n",
    "Write a function that returns the added character"
   ]
  },
  {
   "cell_type": "code",
   "execution_count": 27,
   "metadata": {},
   "outputs": [
    {
     "data": {
      "text/plain": [
       "'2'"
      ]
     },
     "execution_count": 27,
     "metadata": {},
     "output_type": "execute_result"
    }
   ],
   "source": [
    "#my solution\n",
    "def added_char(s1,s2):\n",
    "    s2 = list(s2) \n",
    "    for character in s1:\n",
    "        if character in s2:\n",
    "            s2.remove(character)\n",
    "    return s2[0]\n",
    "added_char(\"abcde\",\"2db2a2ec\")"
   ]
  },
  {
   "cell_type": "code",
   "execution_count": null,
   "metadata": {},
   "outputs": [],
   "source": [
    "#best-solution 1\n",
    "\n",
    "from collections import Counter\n",
    "\n",
    "def added_char(s1, s2):  \n",
    "    return next((Counter(s2) - Counter(s1)).elements())"
   ]
  },
  {
   "cell_type": "code",
   "execution_count": 33,
   "metadata": {},
   "outputs": [
    {
     "name": "stdout",
     "output_type": "stream",
     "text": [
      "a\n",
      "b\n"
     ]
    }
   ],
   "source": [
    "my_list = ['a','b','c']\n",
    "my_iter = iter(my_list)\n",
    "print(next(my_iter))\n",
    "print(next(my_iter))"
   ]
  },
  {
   "cell_type": "markdown",
   "metadata": {},
   "source": [
    "still do not understand what is the function of next() :("
   ]
  },
  {
   "cell_type": "code",
   "execution_count": 26,
   "metadata": {},
   "outputs": [
    {
     "name": "stdout",
     "output_type": "stream",
     "text": [
      "2\n"
     ]
    }
   ],
   "source": [
    "from collections import Counter \n",
    "s1 = 'abcda'\n",
    "s2 = 'abcdef'\n",
    "print(s1.count('a'))"
   ]
  },
  {
   "cell_type": "code",
   "execution_count": null,
   "metadata": {},
   "outputs": [],
   "source": [
    "# Best solution 2\n",
    "from collections import Counter\n",
    "def added_char(s1, s2):     \n",
    "    return list(Counter(s2) - Counter(s1))[0]"
   ]
  },
  {
   "cell_type": "code",
   "execution_count": null,
   "metadata": {},
   "outputs": [],
   "source": [
    "# Best solution 3\n",
    "\n",
    "def added_char(s1, s2):  \n",
    "  for i in s2:\n",
    "      if s1.count(i) != s2.count(i):\n",
    "          return i"
   ]
  }
 ],
 "metadata": {
  "kernelspec": {
   "display_name": "Python 3",
   "language": "python",
   "name": "python3"
  },
  "language_info": {
   "codemirror_mode": {
    "name": "ipython",
    "version": 3
   },
   "file_extension": ".py",
   "mimetype": "text/x-python",
   "name": "python",
   "nbconvert_exporter": "python",
   "pygments_lexer": "ipython3",
   "version": "3.10.7"
  },
  "orig_nbformat": 4
 },
 "nbformat": 4,
 "nbformat_minor": 2
}
