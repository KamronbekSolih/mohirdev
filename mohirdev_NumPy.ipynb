{
  "cells": [
    {
      "cell_type": "markdown",
      "metadata": {
        "id": "view-in-github",
        "colab_type": "text"
      },
      "source": [
        "<a href=\"https://colab.research.google.com/github/KamronbekSolih/mohirdev/blob/main/mohirdev_NumPy.ipynb\" target=\"_parent\"><img src=\"https://colab.research.google.com/assets/colab-badge.svg\" alt=\"Open In Colab\"/></a>"
      ]
    },
    {
      "cell_type": "markdown",
      "id": "bf79c78b",
      "metadata": {
        "id": "bf79c78b"
      },
      "source": [
        "# NumPy kutubxonasiga doir bilimlaringizni mustaxkamlash uchun mashqlar\n",
        "\n",
        "Hurmatli o'quvchi, bilimingizni yanada mustaxkamlashingiz va chuqurroq ko'nikmalarga ega bo'lishingiz uchun sizga topshiriqlar tayyorladik. Sizga yengillik yaratish maqsadida topshiriqni aynan qanday funksiyalar yordamida amalga oshirishingiz mumkin ekanini\n",
        " `💡Ishora` ko'rinishida yozdik!"
      ]
    },
    {
      "cell_type": "markdown",
      "id": "017db353",
      "metadata": {
        "id": "017db353"
      },
      "source": [
        "#### 1. NumPy kutubxonasini `np` nomi ostida yuklang va numpy kutubxonasini chop eting.\n",
        "\n",
        "versiya va konfiguratsiyani tekshiring.\n"
      ]
    },
    {
      "cell_type": "markdown",
      "source": [
        "`💡Ishora` import … as` and `np.__version__, np.show_config"
      ],
      "metadata": {
        "id": "e28779fe"
      },
      "id": "e28779fe"
    },
    {
      "cell_type": "code",
      "source": [
        "import numpy as np"
      ],
      "metadata": {
        "id": "_pCbn1ieI3u9"
      },
      "id": "_pCbn1ieI3u9",
      "execution_count": 2,
      "outputs": []
    },
    {
      "cell_type": "code",
      "source": [
        "print(np.version)"
      ],
      "metadata": {
        "id": "5jY5lVngu1ir",
        "outputId": "8ba80534-788f-444d-b342-dfa7290c018d",
        "colab": {
          "base_uri": "https://localhost:8080/"
        }
      },
      "id": "5jY5lVngu1ir",
      "execution_count": 2,
      "outputs": [
        {
          "output_type": "stream",
          "name": "stdout",
          "text": [
            "<module 'numpy.version' from '/usr/local/lib/python3.10/dist-packages/numpy/version.py'>\n"
          ]
        }
      ]
    },
    {
      "cell_type": "code",
      "source": [
        "print(np.show_config)"
      ],
      "metadata": {
        "id": "p1IgFvr4u7xj",
        "outputId": "4a1a7da6-4d31-4d19-8b6b-fdf3ad323581",
        "colab": {
          "base_uri": "https://localhost:8080/"
        }
      },
      "id": "p1IgFvr4u7xj",
      "execution_count": 3,
      "outputs": [
        {
          "output_type": "stream",
          "name": "stdout",
          "text": [
            "<function show at 0x7a4053e5dfc0>\n"
          ]
        }
      ]
    },
    {
      "cell_type": "markdown",
      "id": "46950f4f",
      "metadata": {
        "id": "46950f4f"
      },
      "source": [
        "#### 2. Raqamli qiymatlar ro'yxatini bir o'lchovli NumPy massiviga aylantiring!"
      ]
    },
    {
      "cell_type": "markdown",
      "source": [
        "`💡Ishora` numpy.array"
      ],
      "metadata": {
        "id": "9b0e875f"
      },
      "id": "9b0e875f"
    },
    {
      "cell_type": "code",
      "source": [
        "import random\n",
        "randlist = random.sample(range(50),10)\n",
        "randlist\n"
      ],
      "metadata": {
        "id": "dgnzjeT3JCi4",
        "outputId": "cdc9cb2b-e96e-449a-b77f-505aa8d7048d",
        "colab": {
          "base_uri": "https://localhost:8080/"
        }
      },
      "id": "dgnzjeT3JCi4",
      "execution_count": 5,
      "outputs": [
        {
          "output_type": "execute_result",
          "data": {
            "text/plain": [
              "[12, 39, 5, 32, 2, 46, 21, 8, 42, 14]"
            ]
          },
          "metadata": {},
          "execution_count": 5
        }
      ]
    },
    {
      "cell_type": "code",
      "source": [
        "nparr = np.array(randlist)\n",
        "nparr"
      ],
      "metadata": {
        "id": "9DE6pVBhvxac",
        "outputId": "ced78436-ce0e-4556-9599-417e52216c7c",
        "colab": {
          "base_uri": "https://localhost:8080/"
        }
      },
      "id": "9DE6pVBhvxac",
      "execution_count": 6,
      "outputs": [
        {
          "output_type": "execute_result",
          "data": {
            "text/plain": [
              "array([12, 39,  5, 32,  2, 46, 21,  8, 42, 14])"
            ]
          },
          "metadata": {},
          "execution_count": 6
        }
      ]
    },
    {
      "cell_type": "markdown",
      "id": "e3c20b3d",
      "metadata": {
        "id": "e3c20b3d"
      },
      "source": [
        "#### 3. Qiymatlari noldan iborat bo'lgan to'qqiz o'lchovli massiv yarating.\n",
        "\n"
      ]
    },
    {
      "cell_type": "markdown",
      "source": [
        "`💡Ishora` np.zeros"
      ],
      "metadata": {
        "id": "96d0b63e"
      },
      "id": "96d0b63e"
    },
    {
      "cell_type": "code",
      "source": [
        "zrarr = np.zeros(shape=(9,9))"
      ],
      "metadata": {
        "id": "rYKQvVz9wDtt"
      },
      "id": "rYKQvVz9wDtt",
      "execution_count": 9,
      "outputs": []
    },
    {
      "cell_type": "code",
      "source": [
        "zrarr"
      ],
      "metadata": {
        "id": "cdhGnkVJwZUP",
        "outputId": "7b49090a-6eea-41c7-c2fc-a7c51d2cbd87",
        "colab": {
          "base_uri": "https://localhost:8080/"
        }
      },
      "id": "cdhGnkVJwZUP",
      "execution_count": 10,
      "outputs": [
        {
          "output_type": "execute_result",
          "data": {
            "text/plain": [
              "array([[0., 0., 0., 0., 0., 0., 0., 0., 0.],\n",
              "       [0., 0., 0., 0., 0., 0., 0., 0., 0.],\n",
              "       [0., 0., 0., 0., 0., 0., 0., 0., 0.],\n",
              "       [0., 0., 0., 0., 0., 0., 0., 0., 0.],\n",
              "       [0., 0., 0., 0., 0., 0., 0., 0., 0.],\n",
              "       [0., 0., 0., 0., 0., 0., 0., 0., 0.],\n",
              "       [0., 0., 0., 0., 0., 0., 0., 0., 0.],\n",
              "       [0., 0., 0., 0., 0., 0., 0., 0., 0.],\n",
              "       [0., 0., 0., 0., 0., 0., 0., 0., 0.]])"
            ]
          },
          "metadata": {},
          "execution_count": 10
        }
      ]
    },
    {
      "cell_type": "markdown",
      "id": "b15a879f",
      "metadata": {
        "id": "b15a879f"
      },
      "source": [
        "#### 4. Massiv yarating va uning xotira hajmini toping.\n",
        "\n"
      ]
    },
    {
      "cell_type": "markdown",
      "source": [
        "`💡Ishora` size, itemsize"
      ],
      "metadata": {
        "id": "32f9025c"
      },
      "id": "32f9025c"
    },
    {
      "cell_type": "code",
      "source": [
        "arr = np.random.randint(50,80,10)\n",
        "arr"
      ],
      "metadata": {
        "id": "MZxcJM_oJOTs",
        "outputId": "59c28228-0050-4fdd-dc7d-2593b3096815",
        "colab": {
          "base_uri": "https://localhost:8080/"
        }
      },
      "id": "MZxcJM_oJOTs",
      "execution_count": 14,
      "outputs": [
        {
          "output_type": "execute_result",
          "data": {
            "text/plain": [
              "array([79, 55, 53, 52, 71, 66, 61, 69, 75, 57])"
            ]
          },
          "metadata": {},
          "execution_count": 14
        }
      ]
    },
    {
      "cell_type": "code",
      "source": [
        "arr.size # the number of elements"
      ],
      "metadata": {
        "id": "Gt2-_kbrwyLA",
        "outputId": "fa20c2fd-97bd-4e17-edd8-82c959cef9a5",
        "colab": {
          "base_uri": "https://localhost:8080/"
        }
      },
      "id": "Gt2-_kbrwyLA",
      "execution_count": 16,
      "outputs": [
        {
          "output_type": "execute_result",
          "data": {
            "text/plain": [
              "10"
            ]
          },
          "metadata": {},
          "execution_count": 16
        }
      ]
    },
    {
      "cell_type": "code",
      "source": [
        "arr.itemsize # number of bytes used to store a single element"
      ],
      "metadata": {
        "id": "oqt3IbeOxgdI",
        "outputId": "315ae30f-c785-44fc-f086-ea4cd59d0cc3",
        "colab": {
          "base_uri": "https://localhost:8080/"
        }
      },
      "id": "oqt3IbeOxgdI",
      "execution_count": 17,
      "outputs": [
        {
          "output_type": "execute_result",
          "data": {
            "text/plain": [
              "8"
            ]
          },
          "metadata": {},
          "execution_count": 17
        }
      ]
    },
    {
      "cell_type": "markdown",
      "id": "0a708990",
      "metadata": {
        "id": "0a708990"
      },
      "source": [
        "#### 5. NumPy kutubxonasidagi add funksiyasi hujjatlarini buyruq satridan qanday olishi mumkin?\n"
      ]
    },
    {
      "cell_type": "markdown",
      "source": [
        "`💡Ishora` np.info"
      ],
      "metadata": {
        "id": "d254eea5"
      },
      "id": "d254eea5"
    },
    {
      "cell_type": "code",
      "source": [
        "np.info(np.add)"
      ],
      "metadata": {
        "id": "m7nA_vYsJVUi",
        "outputId": "e3c5b6ef-c198-444e-f207-d7035f197beb",
        "colab": {
          "base_uri": "https://localhost:8080/"
        }
      },
      "id": "m7nA_vYsJVUi",
      "execution_count": 20,
      "outputs": [
        {
          "output_type": "stream",
          "name": "stdout",
          "text": [
            "add(x1, x2, /, out=None, *, where=True, casting='same_kind', order='K', dtype=None, subok=True[, signature, extobj])\n",
            "\n",
            "Add arguments element-wise.\n",
            "\n",
            "Parameters\n",
            "----------\n",
            "x1, x2 : array_like\n",
            "    The arrays to be added.\n",
            "    If ``x1.shape != x2.shape``, they must be broadcastable to a common\n",
            "    shape (which becomes the shape of the output).\n",
            "out : ndarray, None, or tuple of ndarray and None, optional\n",
            "    A location into which the result is stored. If provided, it must have\n",
            "    a shape that the inputs broadcast to. If not provided or None,\n",
            "    a freshly-allocated array is returned. A tuple (possible only as a\n",
            "    keyword argument) must have length equal to the number of outputs.\n",
            "where : array_like, optional\n",
            "    This condition is broadcast over the input. At locations where the\n",
            "    condition is True, the `out` array will be set to the ufunc result.\n",
            "    Elsewhere, the `out` array will retain its original value.\n",
            "    Note that if an uninitialized `out` array is created via the default\n",
            "    ``out=None``, locations within it where the condition is False will\n",
            "    remain uninitialized.\n",
            "**kwargs\n",
            "    For other keyword-only arguments, see the\n",
            "    :ref:`ufunc docs <ufuncs.kwargs>`.\n",
            "\n",
            "Returns\n",
            "-------\n",
            "add : ndarray or scalar\n",
            "    The sum of `x1` and `x2`, element-wise.\n",
            "    This is a scalar if both `x1` and `x2` are scalars.\n",
            "\n",
            "Notes\n",
            "-----\n",
            "Equivalent to `x1` + `x2` in terms of array broadcasting.\n",
            "\n",
            "Examples\n",
            "--------\n",
            ">>> np.add(1.0, 4.0)\n",
            "5.0\n",
            ">>> x1 = np.arange(9.0).reshape((3, 3))\n",
            ">>> x2 = np.arange(3.0)\n",
            ">>> np.add(x1, x2)\n",
            "array([[  0.,   2.,   4.],\n",
            "       [  3.,   5.,   7.],\n",
            "       [  6.,   8.,  10.]])\n",
            "\n",
            "The ``+`` operator can be used as a shorthand for ``np.add`` on ndarrays.\n",
            "\n",
            ">>> x1 = np.arange(9.0).reshape((3, 3))\n",
            ">>> x2 = np.arange(3.0)\n",
            ">>> x1 + x2\n",
            "array([[ 0.,  2.,  4.],\n",
            "       [ 3.,  5.,  7.],\n",
            "       [ 6.,  8., 10.]])\n"
          ]
        }
      ]
    },
    {
      "cell_type": "markdown",
      "id": "0b16cd77",
      "metadata": {
        "id": "0b16cd77"
      },
      "source": [
        "#### 6. Shunday vekor yaratingki u o'n ikki o'lchamda va qiymatlari noldan iborat bo'lsin, lekin vektorning oltinchi qiymati 1 ga teng bo'lsin.\n",
        "\n"
      ]
    },
    {
      "cell_type": "markdown",
      "source": [
        "`💡Ishora` array[12]"
      ],
      "metadata": {
        "id": "05223560"
      },
      "id": "05223560"
    },
    {
      "cell_type": "code",
      "source": [
        "arr12 = np.zeros(12)\n",
        "arr12[5] = 1\n",
        "arr12"
      ],
      "metadata": {
        "id": "UJfYDNQoJc7M",
        "outputId": "0e7bc9ae-43f4-4071-82a0-f46e7d5f6cdb",
        "colab": {
          "base_uri": "https://localhost:8080/"
        }
      },
      "id": "UJfYDNQoJc7M",
      "execution_count": 23,
      "outputs": [
        {
          "output_type": "execute_result",
          "data": {
            "text/plain": [
              "array([0., 0., 0., 0., 0., 1., 0., 0., 0., 0., 0., 0.])"
            ]
          },
          "metadata": {},
          "execution_count": 23
        }
      ]
    },
    {
      "cell_type": "markdown",
      "id": "782d4c77",
      "metadata": {
        "id": "782d4c77"
      },
      "source": [
        "#### 7. Qiymatlari 20 dan 59 gacha bo'lgan vektor yarating.\n",
        "\n"
      ]
    },
    {
      "cell_type": "markdown",
      "source": [
        "`💡Ishora` arange"
      ],
      "metadata": {
        "id": "7250d114"
      },
      "id": "7250d114"
    },
    {
      "cell_type": "code",
      "source": [
        "np.arange(20,59)"
      ],
      "metadata": {
        "id": "fSaWkGakJhwz",
        "outputId": "bfdb619e-cb35-4232-eb51-ecd26e77f848",
        "colab": {
          "base_uri": "https://localhost:8080/"
        }
      },
      "id": "fSaWkGakJhwz",
      "execution_count": 24,
      "outputs": [
        {
          "output_type": "execute_result",
          "data": {
            "text/plain": [
              "array([20, 21, 22, 23, 24, 25, 26, 27, 28, 29, 30, 31, 32, 33, 34, 35, 36,\n",
              "       37, 38, 39, 40, 41, 42, 43, 44, 45, 46, 47, 48, 49, 50, 51, 52, 53,\n",
              "       54, 55, 56, 57, 58])"
            ]
          },
          "metadata": {},
          "execution_count": 24
        }
      ]
    },
    {
      "cell_type": "markdown",
      "id": "48d48f01",
      "metadata": {
        "id": "48d48f01"
      },
      "source": [
        "#### 8. Vektor yarating va uni teskari o'zgartiring\n",
        "(birinchi element oxirgisi bo'lsin)\n",
        "\n"
      ]
    },
    {
      "cell_type": "markdown",
      "source": [
        "`💡Ishora` array[::-1]"
      ],
      "metadata": {
        "id": "fb702ae0"
      },
      "id": "fb702ae0"
    },
    {
      "cell_type": "code",
      "source": [
        "arr2 = np.arange(20,59)\n",
        "arr2[::-1]"
      ],
      "metadata": {
        "id": "GCP6vp_WJrON",
        "outputId": "87388442-4553-41af-fb7b-844b5a2e67fa",
        "colab": {
          "base_uri": "https://localhost:8080/"
        }
      },
      "id": "GCP6vp_WJrON",
      "execution_count": 25,
      "outputs": [
        {
          "output_type": "execute_result",
          "data": {
            "text/plain": [
              "array([58, 57, 56, 55, 54, 53, 52, 51, 50, 49, 48, 47, 46, 45, 44, 43, 42,\n",
              "       41, 40, 39, 38, 37, 36, 35, 34, 33, 32, 31, 30, 29, 28, 27, 26, 25,\n",
              "       24, 23, 22, 21, 20])"
            ]
          },
          "metadata": {},
          "execution_count": 25
        }
      ]
    },
    {
      "cell_type": "markdown",
      "id": "4fa39382",
      "metadata": {
        "id": "4fa39382"
      },
      "source": [
        "#### 9. 12 dan 20 gacha bo'lgan qiymatlarga ega 3x3 matritsa yarating.\n"
      ]
    },
    {
      "cell_type": "markdown",
      "source": [
        "`💡Ishora` reshape"
      ],
      "metadata": {
        "id": "97e6be92"
      },
      "id": "97e6be92"
    },
    {
      "cell_type": "code",
      "source": [
        "arr3 = np.arange(12,21).reshape(3,3)\n",
        "arr3"
      ],
      "metadata": {
        "id": "Ve7gEGjuJxxw",
        "outputId": "526fad00-ca7f-404e-f3c3-74437167df63",
        "colab": {
          "base_uri": "https://localhost:8080/"
        }
      },
      "id": "Ve7gEGjuJxxw",
      "execution_count": 27,
      "outputs": [
        {
          "output_type": "execute_result",
          "data": {
            "text/plain": [
              "array([[12, 13, 14],\n",
              "       [15, 16, 17],\n",
              "       [18, 19, 20]])"
            ]
          },
          "metadata": {},
          "execution_count": 27
        }
      ]
    },
    {
      "cell_type": "markdown",
      "id": "da64551a",
      "metadata": {
        "id": "da64551a"
      },
      "source": [
        "#### 10. Quyidagi matritsadan foydalanib nolga teng bo'lmagan elementlarning indekslarini toping.\n",
        "[3, 7, 0, 0, 9, 0]\n",
        "\n",
        "\n",
        "\n"
      ]
    },
    {
      "cell_type": "markdown",
      "source": [
        "`💡Ishora` np.nonzero"
      ],
      "metadata": {
        "id": "322b2b68"
      },
      "id": "322b2b68"
    },
    {
      "cell_type": "code",
      "source": [
        "arr4 = [3, 7, 0, 0, 9, 0]\n",
        "np.nonzero(arr4)"
      ],
      "metadata": {
        "id": "fNIuSyBaJ4OP",
        "outputId": "672f4be5-95cf-4ac3-9b17-8f1c2f1d4c2c",
        "colab": {
          "base_uri": "https://localhost:8080/"
        }
      },
      "id": "fNIuSyBaJ4OP",
      "execution_count": 28,
      "outputs": [
        {
          "output_type": "execute_result",
          "data": {
            "text/plain": [
              "(array([0, 1, 4]),)"
            ]
          },
          "metadata": {},
          "execution_count": 28
        }
      ]
    },
    {
      "cell_type": "markdown",
      "id": "f89d9c9e",
      "metadata": {
        "id": "f89d9c9e"
      },
      "source": [
        "#### 11. Tasodifiy qiymatlar bilan 2x2x2 o'lchovidagi massiv yarating.\n"
      ]
    },
    {
      "cell_type": "markdown",
      "source": [
        "`💡Ishora` np.random.random"
      ],
      "metadata": {
        "id": "5717e1c1"
      },
      "id": "5717e1c1"
    },
    {
      "cell_type": "code",
      "source": [
        "arr5 = np.random.random(size=(2,2,2))\n",
        "arr5"
      ],
      "metadata": {
        "id": "bHloeqHOKuiX",
        "outputId": "3476ccb5-b86e-4282-c62c-2cae0d196c77",
        "colab": {
          "base_uri": "https://localhost:8080/"
        }
      },
      "id": "bHloeqHOKuiX",
      "execution_count": 33,
      "outputs": [
        {
          "output_type": "execute_result",
          "data": {
            "text/plain": [
              "array([[[0.10384734, 0.05532947],\n",
              "        [0.2383848 , 0.82324207]],\n",
              "\n",
              "       [[0.65026823, 0.53565344],\n",
              "        [0.88198768, 0.58822361]]])"
            ]
          },
          "metadata": {},
          "execution_count": 33
        }
      ]
    },
    {
      "cell_type": "markdown",
      "id": "13c5928c",
      "metadata": {
        "id": "13c5928c"
      },
      "source": [
        "#### 12. Tasodifiy sonlardan tashkil topgan 9X9 o'lchamidagi massiv yarating. So'ng uning eng katta va eng kichik qiymatlarini toping\n"
      ]
    },
    {
      "cell_type": "markdown",
      "source": [
        "`💡Ishora` min, max"
      ],
      "metadata": {
        "id": "0ede4d26"
      },
      "id": "0ede4d26"
    },
    {
      "cell_type": "code",
      "source": [
        "arr6 =  np.random.random(size=(9,9))\n",
        "arr6\n"
      ],
      "metadata": {
        "id": "OJiVa5K9LJyb",
        "outputId": "9db4b51d-456a-450c-a4ae-ed7d79bed03e",
        "colab": {
          "base_uri": "https://localhost:8080/"
        }
      },
      "id": "OJiVa5K9LJyb",
      "execution_count": 34,
      "outputs": [
        {
          "output_type": "execute_result",
          "data": {
            "text/plain": [
              "array([[0.78228051, 0.65075647, 0.31515882, 0.88987807, 0.21768284,\n",
              "        0.08285745, 0.0748438 , 0.88404354, 0.4932035 ],\n",
              "       [0.45133837, 0.21909705, 0.6644021 , 0.57936819, 0.98307089,\n",
              "        0.191718  , 0.78272219, 0.00483728, 0.62179629],\n",
              "       [0.81190586, 0.86631698, 0.90180316, 0.84342949, 0.97638269,\n",
              "        0.26029214, 0.95549241, 0.87035596, 0.56474858],\n",
              "       [0.66611776, 0.77390541, 0.51313417, 0.72275211, 0.92253615,\n",
              "        0.05765504, 0.90511734, 0.99093494, 0.44520549],\n",
              "       [0.91445944, 0.92010754, 0.67716055, 0.89724118, 0.19094214,\n",
              "        0.24561484, 0.28964602, 0.02528128, 0.12347444],\n",
              "       [0.08756918, 0.79575174, 0.96521298, 0.93169768, 0.70506021,\n",
              "        0.70933073, 0.4124893 , 0.32893046, 0.71432411],\n",
              "       [0.90517371, 0.04626067, 0.39553487, 0.52360258, 0.78888273,\n",
              "        0.23734995, 0.41756474, 0.59327322, 0.77782771],\n",
              "       [0.09217664, 0.30780473, 0.60986857, 0.74517636, 0.07456159,\n",
              "        0.98589733, 0.8229845 , 0.21086915, 0.15790025],\n",
              "       [0.76770417, 0.74781962, 0.44384704, 0.97145094, 0.78156618,\n",
              "        0.84044798, 0.95154308, 0.27821992, 0.33538354]])"
            ]
          },
          "metadata": {},
          "execution_count": 34
        }
      ]
    },
    {
      "cell_type": "code",
      "source": [
        "arr6.min()"
      ],
      "metadata": {
        "id": "TTHRdmTn1ZqD",
        "outputId": "2d737641-d547-4a64-9436-9b1568798fb7",
        "colab": {
          "base_uri": "https://localhost:8080/"
        }
      },
      "id": "TTHRdmTn1ZqD",
      "execution_count": 36,
      "outputs": [
        {
          "output_type": "execute_result",
          "data": {
            "text/plain": [
              "0.004837275689593579"
            ]
          },
          "metadata": {},
          "execution_count": 36
        }
      ]
    },
    {
      "cell_type": "code",
      "source": [
        "arr6.max()"
      ],
      "metadata": {
        "id": "rL2AfofU1frn",
        "outputId": "d4938c3d-bf60-4cf8-db47-f78aef4126fb",
        "colab": {
          "base_uri": "https://localhost:8080/"
        }
      },
      "id": "rL2AfofU1frn",
      "execution_count": 37,
      "outputs": [
        {
          "output_type": "execute_result",
          "data": {
            "text/plain": [
              "0.9909349381495597"
            ]
          },
          "metadata": {},
          "execution_count": 37
        }
      ]
    },
    {
      "cell_type": "markdown",
      "id": "3fa2e461",
      "metadata": {
        "id": "3fa2e461"
      },
      "source": [
        "#### 13. Quyidagi misol qanday natija beradi?\n",
        "\n",
        "\n",
        "```python\n",
        "0 * np.nan\n",
        "np.nan == np.nan\n",
        "np.inf > np.nan\n",
        "np.nan - np.nan\n",
        "np.nan in set([np.nan])\n",
        "0.7 == 7 * 0.1\n",
        "```\n"
      ]
    },
    {
      "cell_type": "markdown",
      "source": [
        "`💡Ishora` NaN = not a number, inf = infinity"
      ],
      "metadata": {
        "id": "c0048e59"
      },
      "id": "c0048e59"
    },
    {
      "cell_type": "code",
      "source": [],
      "metadata": {
        "id": "Thbqd_RCLf_e"
      },
      "id": "Thbqd_RCLf_e",
      "execution_count": null,
      "outputs": []
    },
    {
      "cell_type": "markdown",
      "id": "73f7a549",
      "metadata": {
        "id": "73f7a549"
      },
      "source": [
        "#### 14. O'lchamlari 6x3 va 3x4 bo'lgan martitsa yarating, so'ng ularning  ko'paytmasini hisoblang.\n",
        "\n"
      ]
    },
    {
      "cell_type": "markdown",
      "source": [
        "`💡Ishora` np.dot` or `np.ones"
      ],
      "metadata": {
        "id": "351ff928"
      },
      "id": "351ff928"
    },
    {
      "cell_type": "code",
      "source": [
        "arr7 = np.random.random(size=(6,3))\n",
        "arr8 = np.random.random(size=(3,4))\n"
      ],
      "metadata": {
        "id": "e_5QUFcPLtVX"
      },
      "id": "e_5QUFcPLtVX",
      "execution_count": 42,
      "outputs": []
    },
    {
      "cell_type": "code",
      "source": [
        "np.dot(arr7,arr8)"
      ],
      "metadata": {
        "id": "wSee4EpG23FC",
        "outputId": "acb9d69c-ad96-4a66-90d9-286d2692cf7a",
        "colab": {
          "base_uri": "https://localhost:8080/"
        }
      },
      "id": "wSee4EpG23FC",
      "execution_count": 43,
      "outputs": [
        {
          "output_type": "execute_result",
          "data": {
            "text/plain": [
              "array([[1.07351406, 1.08294583, 1.53803714, 1.16853378],\n",
              "       [0.6945542 , 0.71593222, 1.08209925, 0.8876003 ],\n",
              "       [0.29014873, 0.64794073, 0.99696576, 0.71130665],\n",
              "       [0.30942703, 0.27932407, 0.44481101, 0.40225337],\n",
              "       [0.98072193, 1.22370794, 1.79239101, 1.33548304],\n",
              "       [1.0386746 , 1.09396944, 1.59583278, 1.24143797]])"
            ]
          },
          "metadata": {},
          "execution_count": 43
        }
      ]
    },
    {
      "cell_type": "code",
      "source": [
        "arr7@arr8"
      ],
      "metadata": {
        "id": "S6xHPfki3BXU",
        "outputId": "80988a02-5612-49a6-b521-f9b656512ec9",
        "colab": {
          "base_uri": "https://localhost:8080/"
        }
      },
      "id": "S6xHPfki3BXU",
      "execution_count": 44,
      "outputs": [
        {
          "output_type": "execute_result",
          "data": {
            "text/plain": [
              "array([[1.07351406, 1.08294583, 1.53803714, 1.16853378],\n",
              "       [0.6945542 , 0.71593222, 1.08209925, 0.8876003 ],\n",
              "       [0.29014873, 0.64794073, 0.99696576, 0.71130665],\n",
              "       [0.30942703, 0.27932407, 0.44481101, 0.40225337],\n",
              "       [0.98072193, 1.22370794, 1.79239101, 1.33548304],\n",
              "       [1.0386746 , 1.09396944, 1.59583278, 1.24143797]])"
            ]
          },
          "metadata": {},
          "execution_count": 44
        }
      ]
    },
    {
      "cell_type": "markdown",
      "id": "6d0c506f",
      "metadata": {
        "id": "6d0c506f"
      },
      "source": [
        "#### 15. Quyidagi misol qanday natija beradi?\n",
        "\n",
        "```python\n",
        "print(sum(range(5),-1))\n",
        "from numpy import *\n",
        "print(sum(range(5),-1))\n",
        "```"
      ]
    },
    {
      "cell_type": "code",
      "execution_count": 47,
      "id": "c1cc1143",
      "metadata": {
        "id": "c1cc1143",
        "outputId": "a8a1f472-d7d9-4d71-cc7d-f83de75b1ef7",
        "colab": {
          "base_uri": "https://localhost:8080/"
        }
      },
      "outputs": [
        {
          "output_type": "stream",
          "name": "stdout",
          "text": [
            "9\n"
          ]
        }
      ],
      "source": [
        "print(sum(range(5),-1))"
      ]
    },
    {
      "cell_type": "markdown",
      "id": "d6ad1a9f",
      "metadata": {
        "id": "d6ad1a9f"
      },
      "source": [
        "#### 16. NumPy kutubxonasi yordamida ikkita massivni solishtiring va ular usida quyidagi amallarni bajaring.\n",
        "\n",
        "```python\n",
        "Array a: [1 2]\n",
        "Array b: [4 5]\n",
        "a > b\n",
        "[False False]\n",
        "a >= b\n",
        "[False False]\n",
        "a < b\n",
        "[ True True]\n",
        "a <= b\n",
        "[ True True]\n",
        "```"
      ]
    },
    {
      "cell_type": "code",
      "execution_count": 50,
      "id": "7ba3c441",
      "metadata": {
        "id": "7ba3c441"
      },
      "outputs": [],
      "source": [
        "arr10 = np.random.randint(10,50,5)\n",
        "arr11 = np.random.randint(10,50,5)"
      ]
    },
    {
      "cell_type": "code",
      "source": [
        "arr10"
      ],
      "metadata": {
        "id": "noy4i7zRDb9H",
        "outputId": "5025a4cb-946d-4b1f-ab7c-6e777134b883",
        "colab": {
          "base_uri": "https://localhost:8080/"
        }
      },
      "id": "noy4i7zRDb9H",
      "execution_count": 52,
      "outputs": [
        {
          "output_type": "execute_result",
          "data": {
            "text/plain": [
              "array([12, 12, 12, 21, 16])"
            ]
          },
          "metadata": {},
          "execution_count": 52
        }
      ]
    },
    {
      "cell_type": "code",
      "source": [
        "arr11"
      ],
      "metadata": {
        "id": "EyC-sVNSDmYB",
        "outputId": "e474f8fe-f926-4e1e-b677-61e372dc9208",
        "colab": {
          "base_uri": "https://localhost:8080/"
        }
      },
      "id": "EyC-sVNSDmYB",
      "execution_count": 53,
      "outputs": [
        {
          "output_type": "execute_result",
          "data": {
            "text/plain": [
              "array([33, 10, 47, 26, 10])"
            ]
          },
          "metadata": {},
          "execution_count": 53
        }
      ]
    },
    {
      "cell_type": "code",
      "source": [
        "arr10>arr11"
      ],
      "metadata": {
        "id": "tR1SLp49Dotq",
        "outputId": "540d1e7e-bab7-4fa0-9104-d3d7e30e31e5",
        "colab": {
          "base_uri": "https://localhost:8080/"
        }
      },
      "id": "tR1SLp49Dotq",
      "execution_count": 54,
      "outputs": [
        {
          "output_type": "execute_result",
          "data": {
            "text/plain": [
              "array([False,  True, False, False,  True])"
            ]
          },
          "metadata": {},
          "execution_count": 54
        }
      ]
    },
    {
      "cell_type": "code",
      "source": [
        "arr10<arr11"
      ],
      "metadata": {
        "id": "x5WntJ-6DutP",
        "outputId": "fdb5b19f-441c-4942-9b7a-835328b2de83",
        "colab": {
          "base_uri": "https://localhost:8080/"
        }
      },
      "id": "x5WntJ-6DutP",
      "execution_count": 55,
      "outputs": [
        {
          "output_type": "execute_result",
          "data": {
            "text/plain": [
              "array([ True, False,  True,  True, False])"
            ]
          },
          "metadata": {},
          "execution_count": 55
        }
      ]
    },
    {
      "cell_type": "code",
      "source": [
        "arr10>=arr11"
      ],
      "metadata": {
        "id": "aG1rKs6FDzlf",
        "outputId": "aa559af3-6550-4b05-9e87-ea6f2ae1c3f6",
        "colab": {
          "base_uri": "https://localhost:8080/"
        }
      },
      "id": "aG1rKs6FDzlf",
      "execution_count": 56,
      "outputs": [
        {
          "output_type": "execute_result",
          "data": {
            "text/plain": [
              "array([False,  True, False, False,  True])"
            ]
          },
          "metadata": {},
          "execution_count": 56
        }
      ]
    },
    {
      "cell_type": "code",
      "source": [
        "arr10<=arr11"
      ],
      "metadata": {
        "id": "6aphe1fCD4uf",
        "outputId": "efe3363d-3e40-46d6-c14d-28bd735a5c91",
        "colab": {
          "base_uri": "https://localhost:8080/"
        }
      },
      "id": "6aphe1fCD4uf",
      "execution_count": 57,
      "outputs": [
        {
          "output_type": "execute_result",
          "data": {
            "text/plain": [
              "array([ True, False,  True,  True, False])"
            ]
          },
          "metadata": {},
          "execution_count": 57
        }
      ]
    },
    {
      "cell_type": "markdown",
      "id": "e3a7ba7f",
      "metadata": {
        "id": "e3a7ba7f"
      },
      "source": [
        "#### 17. Quyidagi misol qanday natija beradi?\n",
        "\n",
        "```python\n",
        "np.array(0) / np.array(0)\n",
        "np.array(0) // np.array(0)\n",
        "np.array([np.nan]).astype(int).astype(float)\n",
        "```"
      ]
    },
    {
      "cell_type": "markdown",
      "source": [
        "Let's go through each of these NumPy expressions:\n",
        "\n",
        "1. `np.array(0) / np.array(0)`:\n",
        "   - This will result in a `nan` (not-a-number). When you divide zero by zero, the result is undefined, which is represented as `nan` in NumPy.\n",
        "\n",
        "2. `np.array(0) // np.array(0)`:\n",
        "   - This will also result in a `nan`. The floor division operator `//` behaves similarly to regular division when dividing zero by zero, resulting in `nan`.\n",
        "\n",
        "3. `np.array([np.nan]).astype(int).astype(float)`:\n",
        "   - This expression converts a NumPy array containing a `nan` as a float to an integer, and then back to a float.\n",
        "   - The first `.astype(int)` conversion will result in `array([0])`. Converting `nan` to an integer results in `0`.\n",
        "   - The second `.astype(float)` conversion will then result in `array([0.])`. The integer `0` is converted back to a float, resulting in `0.0`.\n",
        "\n",
        "Keep in mind that when performing operations with `nan`, the result will often be `nan`, and when converting `nan` to an integer, it becomes `0`. The behavior is designed to handle undefined or missing values in a predictable way."
      ],
      "metadata": {
        "id": "A_1nCHdnEWNh"
      },
      "id": "A_1nCHdnEWNh"
    },
    {
      "cell_type": "code",
      "execution_count": null,
      "id": "b874734e",
      "metadata": {
        "id": "b874734e"
      },
      "outputs": [],
      "source": []
    },
    {
      "cell_type": "markdown",
      "id": "6d17ab5d",
      "metadata": {
        "id": "6d17ab5d"
      },
      "source": [
        "#### 18. Ikkita massiv yarating va ular orasidagi umumiy qiymatlarni toping\n"
      ]
    },
    {
      "cell_type": "markdown",
      "source": [
        "`💡Ishora` np.intersect1d"
      ],
      "metadata": {
        "id": "4c4e2c5e"
      },
      "id": "4c4e2c5e"
    },
    {
      "cell_type": "code",
      "source": [
        "arr14 = np.random.random(5)*10\n",
        "arr14 = [int(i) for i in arr14]\n",
        "arr14"
      ],
      "metadata": {
        "id": "Dxz5P8WpMeAP",
        "outputId": "33106129-a45e-40cf-c728-d89838590451",
        "colab": {
          "base_uri": "https://localhost:8080/"
        }
      },
      "id": "Dxz5P8WpMeAP",
      "execution_count": 67,
      "outputs": [
        {
          "output_type": "execute_result",
          "data": {
            "text/plain": [
              "[2, 9, 4, 5, 4]"
            ]
          },
          "metadata": {},
          "execution_count": 67
        }
      ]
    },
    {
      "cell_type": "code",
      "source": [
        "arr15 = np.random.random(5)*10\n",
        "arr15 = [int(i) for i in arr15]\n",
        "arr15"
      ],
      "metadata": {
        "id": "Dj-S5mONFCrS",
        "outputId": "3a536c7e-34c2-4b4f-fc90-ceea542a0dd1",
        "colab": {
          "base_uri": "https://localhost:8080/"
        }
      },
      "id": "Dj-S5mONFCrS",
      "execution_count": 73,
      "outputs": [
        {
          "output_type": "execute_result",
          "data": {
            "text/plain": [
              "[6, 1, 5, 3, 2]"
            ]
          },
          "metadata": {},
          "execution_count": 73
        }
      ]
    },
    {
      "cell_type": "code",
      "source": [
        "np.intersect1d(arr14,arr15)"
      ],
      "metadata": {
        "id": "HUQQf_ElFgqM",
        "outputId": "bb8d05a7-d7e8-4e2f-ce39-dd2243c18883",
        "colab": {
          "base_uri": "https://localhost:8080/"
        }
      },
      "id": "HUQQf_ElFgqM",
      "execution_count": 74,
      "outputs": [
        {
          "output_type": "execute_result",
          "data": {
            "text/plain": [
              "array([2, 5])"
            ]
          },
          "metadata": {},
          "execution_count": 74
        }
      ]
    },
    {
      "cell_type": "markdown",
      "id": "8837119b",
      "metadata": {
        "id": "8837119b"
      },
      "source": [
        "#### 19. Tasodifiy sonlardan iborat bo'lgan massiv yarating, so'ng ularni quyida berilgan 4 xil usul yordamida musbat sonlarning butun qismini ajratib oling."
      ]
    },
    {
      "cell_type": "markdown",
      "source": [
        "`💡Ishora` %, np.floor, astype, np.trunc"
      ],
      "metadata": {
        "id": "2b05c544"
      },
      "id": "2b05c544"
    },
    {
      "cell_type": "code",
      "source": [
        "arr16 = np.random.random(5)*10\n",
        "arr16"
      ],
      "metadata": {
        "id": "jc6wN5WWMpS3",
        "outputId": "46410528-1ceb-4510-fbb9-379aa3e6974f",
        "colab": {
          "base_uri": "https://localhost:8080/"
        }
      },
      "id": "jc6wN5WWMpS3",
      "execution_count": 76,
      "outputs": [
        {
          "output_type": "execute_result",
          "data": {
            "text/plain": [
              "array([8.6324878 , 2.67153964, 6.64401146, 5.40253237, 4.80314106])"
            ]
          },
          "metadata": {},
          "execution_count": 76
        }
      ]
    },
    {
      "cell_type": "code",
      "source": [
        "# %\n",
        "result = arr16%1\n",
        "result"
      ],
      "metadata": {
        "id": "w8KAxb3hGVLr",
        "outputId": "5ec535b0-c864-443f-903f-2567158c8394",
        "colab": {
          "base_uri": "https://localhost:8080/"
        }
      },
      "id": "w8KAxb3hGVLr",
      "execution_count": 80,
      "outputs": [
        {
          "output_type": "execute_result",
          "data": {
            "text/plain": [
              "array([0.6324878 , 0.67153964, 0.64401146, 0.40253237, 0.80314106])"
            ]
          },
          "metadata": {},
          "execution_count": 80
        }
      ]
    },
    {
      "cell_type": "code",
      "source": [
        "rsl = np.floor(arr16)\n",
        "rsl"
      ],
      "metadata": {
        "id": "Qgq9aPjBGu6U",
        "outputId": "b39aead4-2a53-440a-8472-e7815920f957",
        "colab": {
          "base_uri": "https://localhost:8080/"
        }
      },
      "id": "Qgq9aPjBGu6U",
      "execution_count": 87,
      "outputs": [
        {
          "output_type": "execute_result",
          "data": {
            "text/plain": [
              "array([8., 2., 6., 5., 4.])"
            ]
          },
          "metadata": {},
          "execution_count": 87
        }
      ]
    },
    {
      "cell_type": "code",
      "source": [
        "rsl = arr16.astype(int)\n",
        "rsl"
      ],
      "metadata": {
        "id": "RbfGoFc_H5gh",
        "outputId": "307cbbe6-927d-4a50-cae8-05d3dbd94233",
        "colab": {
          "base_uri": "https://localhost:8080/"
        }
      },
      "id": "RbfGoFc_H5gh",
      "execution_count": 89,
      "outputs": [
        {
          "output_type": "execute_result",
          "data": {
            "text/plain": [
              "array([8, 2, 6, 5, 4])"
            ]
          },
          "metadata": {},
          "execution_count": 89
        }
      ]
    },
    {
      "cell_type": "code",
      "source": [
        "rsl = np.trunc(arr16)\n",
        "rsl"
      ],
      "metadata": {
        "id": "xOFEppQcINnw",
        "outputId": "6876278d-6cf3-49a5-914c-7bf89fef0a00",
        "colab": {
          "base_uri": "https://localhost:8080/"
        }
      },
      "id": "xOFEppQcINnw",
      "execution_count": 91,
      "outputs": [
        {
          "output_type": "execute_result",
          "data": {
            "text/plain": [
              "array([8., 2., 6., 5., 4.])"
            ]
          },
          "metadata": {},
          "execution_count": 91
        }
      ]
    },
    {
      "cell_type": "markdown",
      "id": "ec788c9f",
      "metadata": {
        "id": "ec788c9f"
      },
      "source": [
        "#### 20. O'lchovlari 3x3 matritsa yarating, ularning qator qiymatlari 0 dan 2 gacha bo'lsin.\n",
        "\n"
      ]
    },
    {
      "cell_type": "markdown",
      "source": [
        "`💡Ishora` np.arange"
      ],
      "metadata": {
        "id": "c3980b2c"
      },
      "id": "c3980b2c"
    },
    {
      "cell_type": "code",
      "source": [
        "arr17 = np.arange(9).reshape(3,3)\n",
        "arr17"
      ],
      "metadata": {
        "id": "ycz3jw4bM0Xk",
        "outputId": "9fba8a55-b34f-4b97-a988-c4e9c2a8d023",
        "colab": {
          "base_uri": "https://localhost:8080/"
        }
      },
      "id": "ycz3jw4bM0Xk",
      "execution_count": 95,
      "outputs": [
        {
          "output_type": "execute_result",
          "data": {
            "text/plain": [
              "array([[0, 1, 2],\n",
              "       [3, 4, 5],\n",
              "       [6, 7, 8]])"
            ]
          },
          "metadata": {},
          "execution_count": 95
        }
      ]
    },
    {
      "cell_type": "markdown",
      "id": "391791e0",
      "metadata": {
        "id": "391791e0"
      },
      "source": [
        "#### 21. O'chamlari 10 bo'lgan tasodifiy vektor yarating va uni o'sish tartibida chiqaruvchi dastur tuzing.\n",
        "\n"
      ]
    },
    {
      "cell_type": "markdown",
      "source": [
        "`💡Ishora` sort"
      ],
      "metadata": {
        "id": "ada71c06"
      },
      "id": "ada71c06"
    },
    {
      "cell_type": "code",
      "source": [
        "arr18 = np.random.random(10)*10\n",
        "arr18.sort()\n",
        "arr18"
      ],
      "metadata": {
        "id": "TPMqaavROM7g",
        "outputId": "d2f0f0f5-eb10-4a11-8aff-f7af777e35e6",
        "colab": {
          "base_uri": "https://localhost:8080/"
        }
      },
      "id": "TPMqaavROM7g",
      "execution_count": 97,
      "outputs": [
        {
          "output_type": "execute_result",
          "data": {
            "text/plain": [
              "array([0.68401137, 0.84821692, 1.42435775, 3.38590609, 4.09319492,\n",
              "       5.3721772 , 5.85745435, 6.27814253, 8.08425133, 8.55288468])"
            ]
          },
          "metadata": {},
          "execution_count": 97
        }
      ]
    },
    {
      "cell_type": "markdown",
      "id": "1e74d39e",
      "metadata": {
        "id": "1e74d39e"
      },
      "source": [
        "#### 22. Ikki tasodifiy A va B massiv yarating, ularning tengligini tekshiring"
      ]
    },
    {
      "cell_type": "markdown",
      "source": [
        "`💡Ishora` np.allclose, np.array_equal"
      ],
      "metadata": {
        "id": "eb0e066c"
      },
      "id": "eb0e066c"
    },
    {
      "cell_type": "code",
      "source": [
        "A = np.random.random(5)\n",
        "B= np.random.random(5)"
      ],
      "metadata": {
        "id": "xHNWNZnwOT1r",
        "outputId": "c154bbe3-b6f0-4a14-96cf-667c0c18abe8",
        "colab": {
          "base_uri": "https://localhost:8080/"
        }
      },
      "id": "xHNWNZnwOT1r",
      "execution_count": 98,
      "outputs": [
        {
          "output_type": "execute_result",
          "data": {
            "text/plain": [
              "array([0.89918589, 0.72548837, 0.21150861, 0.63968979, 0.26682513])"
            ]
          },
          "metadata": {},
          "execution_count": 98
        }
      ]
    },
    {
      "cell_type": "code",
      "source": [
        "A"
      ],
      "metadata": {
        "id": "LJS6v-iTL__H",
        "outputId": "686d097a-d4f0-4f96-daec-343a4d090f24",
        "colab": {
          "base_uri": "https://localhost:8080/"
        }
      },
      "id": "LJS6v-iTL__H",
      "execution_count": 99,
      "outputs": [
        {
          "output_type": "execute_result",
          "data": {
            "text/plain": [
              "array([0.21268402, 0.74634303, 0.9819156 , 0.65452321, 0.73635542])"
            ]
          },
          "metadata": {},
          "execution_count": 99
        }
      ]
    },
    {
      "cell_type": "code",
      "source": [
        "B"
      ],
      "metadata": {
        "id": "uFIXteSJMBpK",
        "outputId": "4aa1797f-8e7e-458b-f974-a0ff8fc835d6",
        "colab": {
          "base_uri": "https://localhost:8080/"
        }
      },
      "id": "uFIXteSJMBpK",
      "execution_count": 100,
      "outputs": [
        {
          "output_type": "execute_result",
          "data": {
            "text/plain": [
              "array([0.89918589, 0.72548837, 0.21150861, 0.63968979, 0.26682513])"
            ]
          },
          "metadata": {},
          "execution_count": 100
        }
      ]
    },
    {
      "cell_type": "code",
      "source": [
        "np.allclose(A,B)"
      ],
      "metadata": {
        "id": "EVtydflhMD7z",
        "outputId": "fd52fa32-f41a-40f8-8bd5-2a55d2d10140",
        "colab": {
          "base_uri": "https://localhost:8080/"
        }
      },
      "id": "EVtydflhMD7z",
      "execution_count": 101,
      "outputs": [
        {
          "output_type": "execute_result",
          "data": {
            "text/plain": [
              "False"
            ]
          },
          "metadata": {},
          "execution_count": 101
        }
      ]
    },
    {
      "cell_type": "code",
      "source": [
        "np.array_equal(A,B)"
      ],
      "metadata": {
        "id": "ary9KRfRMK-W",
        "outputId": "9e19620c-fb90-4c37-dda3-ced1397f9e41",
        "colab": {
          "base_uri": "https://localhost:8080/"
        }
      },
      "id": "ary9KRfRMK-W",
      "execution_count": 102,
      "outputs": [
        {
          "output_type": "execute_result",
          "data": {
            "text/plain": [
              "False"
            ]
          },
          "metadata": {},
          "execution_count": 102
        }
      ]
    },
    {
      "cell_type": "markdown",
      "id": "78250c14",
      "metadata": {
        "id": "78250c14"
      },
      "source": [
        "#### 23. O'lchamlari 6x3 va 3x4 matritsa tuzing va ularni o'zaro ko'paytiring.\n"
      ]
    },
    {
      "cell_type": "markdown",
      "source": [
        "`💡Ishora` np.dot or np.ones"
      ],
      "metadata": {
        "id": "2e482afe"
      },
      "id": "2e482afe"
    },
    {
      "cell_type": "code",
      "source": [
        "arr20 = np.random.randint(0,10, (6,3))\n",
        "arr20"
      ],
      "metadata": {
        "id": "ZRlMgdT9POgS",
        "outputId": "914d53ef-aa65-4c51-b4cb-b16a901a6a68",
        "colab": {
          "base_uri": "https://localhost:8080/"
        }
      },
      "id": "ZRlMgdT9POgS",
      "execution_count": 105,
      "outputs": [
        {
          "output_type": "execute_result",
          "data": {
            "text/plain": [
              "array([[3, 9, 8],\n",
              "       [8, 6, 0],\n",
              "       [3, 9, 3],\n",
              "       [2, 1, 3],\n",
              "       [0, 1, 4],\n",
              "       [9, 8, 1]])"
            ]
          },
          "metadata": {},
          "execution_count": 105
        }
      ]
    },
    {
      "cell_type": "code",
      "source": [
        "arr21 = np.random.randint(0,10, (3,4))\n",
        "arr21"
      ],
      "metadata": {
        "id": "btVnQPu7MuKw",
        "outputId": "59f0eb15-8453-42d7-8460-e2dec8595d82",
        "colab": {
          "base_uri": "https://localhost:8080/"
        }
      },
      "id": "btVnQPu7MuKw",
      "execution_count": 24,
      "outputs": [
        {
          "output_type": "execute_result",
          "data": {
            "text/plain": [
              "array([[7, 5, 9, 6],\n",
              "       [9, 8, 4, 2],\n",
              "       [5, 9, 0, 9]])"
            ]
          },
          "metadata": {},
          "execution_count": 24
        }
      ]
    },
    {
      "cell_type": "code",
      "source": [
        "np.dot(arr20,arr21)"
      ],
      "metadata": {
        "id": "j-074mU2M3uc",
        "outputId": "60090ffd-631d-4815-d3a3-d771e77b78a3",
        "colab": {
          "base_uri": "https://localhost:8080/"
        }
      },
      "id": "j-074mU2M3uc",
      "execution_count": 108,
      "outputs": [
        {
          "output_type": "execute_result",
          "data": {
            "text/plain": [
              "array([[129,  62,  81,  35],\n",
              "       [108,  44,  62,  18],\n",
              "       [ 99,  42,  66,  30],\n",
              "       [ 42,  22,  22,   6],\n",
              "       [ 30,  18,  17,   7],\n",
              "       [135,  56,  79,  25]])"
            ]
          },
          "metadata": {},
          "execution_count": 108
        }
      ]
    },
    {
      "cell_type": "code",
      "source": [
        "np.ones(arr20,arr21)"
      ],
      "metadata": {
        "id": "1yIgjh0ANACS",
        "outputId": "a59b3397-0356-438d-aac2-ed83ecb4f0ef",
        "colab": {
          "base_uri": "https://localhost:8080/",
          "height": 297
        }
      },
      "id": "1yIgjh0ANACS",
      "execution_count": 109,
      "outputs": [
        {
          "output_type": "error",
          "ename": "TypeError",
          "evalue": "ignored",
          "traceback": [
            "\u001b[0;31m---------------------------------------------------------------------------\u001b[0m",
            "\u001b[0;31mTypeError\u001b[0m                                 Traceback (most recent call last)",
            "\u001b[0;32m<ipython-input-109-a9239e3da9dc>\u001b[0m in \u001b[0;36m<cell line: 1>\u001b[0;34m()\u001b[0m\n\u001b[0;32m----> 1\u001b[0;31m \u001b[0mnp\u001b[0m\u001b[0;34m.\u001b[0m\u001b[0mones\u001b[0m\u001b[0;34m(\u001b[0m\u001b[0marr20\u001b[0m\u001b[0;34m,\u001b[0m\u001b[0marr21\u001b[0m\u001b[0;34m)\u001b[0m\u001b[0;34m\u001b[0m\u001b[0;34m\u001b[0m\u001b[0m\n\u001b[0m",
            "\u001b[0;32m/usr/local/lib/python3.10/dist-packages/numpy/core/numeric.py\u001b[0m in \u001b[0;36mones\u001b[0;34m(shape, dtype, order, like)\u001b[0m\n\u001b[1;32m    202\u001b[0m         \u001b[0;32mreturn\u001b[0m \u001b[0m_ones_with_like\u001b[0m\u001b[0;34m(\u001b[0m\u001b[0mshape\u001b[0m\u001b[0;34m,\u001b[0m \u001b[0mdtype\u001b[0m\u001b[0;34m=\u001b[0m\u001b[0mdtype\u001b[0m\u001b[0;34m,\u001b[0m \u001b[0morder\u001b[0m\u001b[0;34m=\u001b[0m\u001b[0morder\u001b[0m\u001b[0;34m,\u001b[0m \u001b[0mlike\u001b[0m\u001b[0;34m=\u001b[0m\u001b[0mlike\u001b[0m\u001b[0;34m)\u001b[0m\u001b[0;34m\u001b[0m\u001b[0;34m\u001b[0m\u001b[0m\n\u001b[1;32m    203\u001b[0m \u001b[0;34m\u001b[0m\u001b[0m\n\u001b[0;32m--> 204\u001b[0;31m     \u001b[0ma\u001b[0m \u001b[0;34m=\u001b[0m \u001b[0mempty\u001b[0m\u001b[0;34m(\u001b[0m\u001b[0mshape\u001b[0m\u001b[0;34m,\u001b[0m \u001b[0mdtype\u001b[0m\u001b[0;34m,\u001b[0m \u001b[0morder\u001b[0m\u001b[0;34m)\u001b[0m\u001b[0;34m\u001b[0m\u001b[0;34m\u001b[0m\u001b[0m\n\u001b[0m\u001b[1;32m    205\u001b[0m     \u001b[0mmultiarray\u001b[0m\u001b[0;34m.\u001b[0m\u001b[0mcopyto\u001b[0m\u001b[0;34m(\u001b[0m\u001b[0ma\u001b[0m\u001b[0;34m,\u001b[0m \u001b[0;36m1\u001b[0m\u001b[0;34m,\u001b[0m \u001b[0mcasting\u001b[0m\u001b[0;34m=\u001b[0m\u001b[0;34m'unsafe'\u001b[0m\u001b[0;34m)\u001b[0m\u001b[0;34m\u001b[0m\u001b[0;34m\u001b[0m\u001b[0m\n\u001b[1;32m    206\u001b[0m     \u001b[0;32mreturn\u001b[0m \u001b[0ma\u001b[0m\u001b[0;34m\u001b[0m\u001b[0;34m\u001b[0m\u001b[0m\n",
            "\u001b[0;31mTypeError\u001b[0m: only integer scalar arrays can be converted to a scalar index"
          ]
        }
      ]
    },
    {
      "cell_type": "code",
      "source": [
        "arr20@arr21"
      ],
      "metadata": {
        "id": "DmVoUSs6NGAV",
        "outputId": "04e8c0f7-d404-43dd-b557-2f78214a1c29",
        "colab": {
          "base_uri": "https://localhost:8080/"
        }
      },
      "id": "DmVoUSs6NGAV",
      "execution_count": 110,
      "outputs": [
        {
          "output_type": "execute_result",
          "data": {
            "text/plain": [
              "array([[129,  62,  81,  35],\n",
              "       [108,  44,  62,  18],\n",
              "       [ 99,  42,  66,  30],\n",
              "       [ 42,  22,  22,   6],\n",
              "       [ 30,  18,  17,   7],\n",
              "       [135,  56,  79,  25]])"
            ]
          },
          "metadata": {},
          "execution_count": 110
        }
      ]
    },
    {
      "cell_type": "markdown",
      "id": "51898680",
      "metadata": {
        "id": "51898680"
      },
      "source": [
        "#### 24. Tasodifiy sonlardan iborat bo'lgan o'lchami 5 ga teng vektor yarating, so'ng uning eng katta qiymatini 0 ga o'zgartiring.\n"
      ]
    },
    {
      "cell_type": "markdown",
      "source": [
        "`💡Ishora` argmax"
      ],
      "metadata": {
        "id": "ee92ccaf"
      },
      "id": "ee92ccaf"
    },
    {
      "cell_type": "code",
      "source": [
        "arr22 = np.random.random(10)\n",
        "arr22*10"
      ],
      "metadata": {
        "id": "v9DvyaTNPk_t",
        "outputId": "efde962b-7223-4b77-b76d-840d50877ffd",
        "colab": {
          "base_uri": "https://localhost:8080/"
        }
      },
      "id": "v9DvyaTNPk_t",
      "execution_count": 23,
      "outputs": [
        {
          "output_type": "execute_result",
          "data": {
            "text/plain": [
              "array([8.13489568, 0.07125607, 3.74378151, 9.21625798, 5.40573688,\n",
              "       6.22316248, 2.80732067, 1.43994948, 3.48539578, 9.24548593])"
            ]
          },
          "metadata": {},
          "execution_count": 23
        }
      ]
    },
    {
      "cell_type": "code",
      "source": [
        "max_el = np.argmax(arr22)\n",
        "arr22[max_el] = 0\n",
        "arr22"
      ],
      "metadata": {
        "id": "3U-KXon9NfdL",
        "outputId": "64bf9705-3935-4754-d033-1a4605a9761b",
        "colab": {
          "base_uri": "https://localhost:8080/"
        }
      },
      "id": "3U-KXon9NfdL",
      "execution_count": 122,
      "outputs": [
        {
          "output_type": "execute_result",
          "data": {
            "text/plain": [
              "array([0.64655006, 0.34116441, 0.44380435, 0.        , 0.30126503,\n",
              "       0.19741729, 0.64156681, 0.71511725, 0.56191463, 0.37339524])"
            ]
          },
          "metadata": {},
          "execution_count": 122
        }
      ]
    },
    {
      "cell_type": "markdown",
      "id": "129c342d",
      "metadata": {
        "id": "129c342d"
      },
      "source": [
        "#### 25. NumPy kutubxonasi yordamida kecha, bugun va ertangi kun sanalarini aniqlang.\n"
      ]
    },
    {
      "cell_type": "markdown",
      "source": [
        "`💡Ishora` np.datetime64, np.timedelta64"
      ],
      "metadata": {
        "id": "0fd2f947"
      },
      "id": "0fd2f947"
    },
    {
      "cell_type": "code",
      "source": [
        "np.datetime64('2002-12-02')"
      ],
      "metadata": {
        "id": "dlljRGxkSitd",
        "outputId": "b382fb3e-9753-489d-e937-9439c2cffe98",
        "colab": {
          "base_uri": "https://localhost:8080/"
        }
      },
      "id": "dlljRGxkSitd",
      "execution_count": 127,
      "outputs": [
        {
          "output_type": "execute_result",
          "data": {
            "text/plain": [
              "numpy.datetime64('2002-12-02')"
            ]
          },
          "metadata": {},
          "execution_count": 127
        }
      ]
    },
    {
      "cell_type": "code",
      "source": [
        "np.timedelta64()"
      ],
      "metadata": {
        "id": "_25cKxG5QZ4f",
        "outputId": "caad834d-53a2-40f5-b039-2ea685b85abf",
        "colab": {
          "base_uri": "https://localhost:8080/"
        }
      },
      "id": "_25cKxG5QZ4f",
      "execution_count": 128,
      "outputs": [
        {
          "output_type": "execute_result",
          "data": {
            "text/plain": [
              "numpy.timedelta64(0)"
            ]
          },
          "metadata": {},
          "execution_count": 128
        }
      ]
    },
    {
      "cell_type": "code",
      "source": [
        "today = np.datetime64('today')\n",
        "today"
      ],
      "metadata": {
        "id": "FX__cKPl32ac",
        "outputId": "985a3590-7326-48d4-85bc-0fcb9cd0a166",
        "colab": {
          "base_uri": "https://localhost:8080/"
        }
      },
      "id": "FX__cKPl32ac",
      "execution_count": 4,
      "outputs": [
        {
          "output_type": "execute_result",
          "data": {
            "text/plain": [
              "numpy.datetime64('2023-10-14')"
            ]
          },
          "metadata": {},
          "execution_count": 4
        }
      ]
    },
    {
      "cell_type": "code",
      "source": [
        "yesterday = today - np.timedelta64(1,'D')\n",
        "yesterday"
      ],
      "metadata": {
        "id": "0aJJwnZTwdaT",
        "outputId": "31cde62e-c606-4428-de61-4795586ee647",
        "colab": {
          "base_uri": "https://localhost:8080/"
        }
      },
      "id": "0aJJwnZTwdaT",
      "execution_count": 8,
      "outputs": [
        {
          "output_type": "execute_result",
          "data": {
            "text/plain": [
              "numpy.datetime64('2023-10-13')"
            ]
          },
          "metadata": {},
          "execution_count": 8
        }
      ]
    },
    {
      "cell_type": "code",
      "source": [
        "tomorrow = today + np.timedelta64(1,'D')\n",
        "tomorrow"
      ],
      "metadata": {
        "id": "LgKaEG-Tw0yy",
        "outputId": "1a277ae8-b309-49b9-bb39-cb17837b585d",
        "colab": {
          "base_uri": "https://localhost:8080/"
        }
      },
      "id": "LgKaEG-Tw0yy",
      "execution_count": 9,
      "outputs": [
        {
          "output_type": "execute_result",
          "data": {
            "text/plain": [
              "numpy.datetime64('2023-10-15')"
            ]
          },
          "metadata": {},
          "execution_count": 9
        }
      ]
    },
    {
      "cell_type": "markdown",
      "id": "42f8b2f9",
      "metadata": {
        "id": "42f8b2f9"
      },
      "source": [
        "#### 26. 2016 yil yanvar oyiga to'g'ri keladigan barcha sanalarni NumPy kutubxonasi yordamida aniqlang.\n"
      ]
    },
    {
      "cell_type": "markdown",
      "source": [
        "`💡Ishora` np.arange(dtype=datetime64['D'])"
      ],
      "metadata": {
        "id": "SU1BWcA8Sw2M"
      },
      "id": "SU1BWcA8Sw2M"
    },
    {
      "cell_type": "code",
      "execution_count": 5,
      "id": "5ad086b0",
      "metadata": {
        "id": "5ad086b0",
        "outputId": "55aa8300-17d5-4a1d-ac6b-5f6d771e250d",
        "colab": {
          "base_uri": "https://localhost:8080/"
        }
      },
      "outputs": [
        {
          "output_type": "execute_result",
          "data": {
            "text/plain": [
              "array(['2016-01-01', '2016-01-02', '2016-01-03', '2016-01-04',\n",
              "       '2016-01-05', '2016-01-06', '2016-01-07', '2016-01-08',\n",
              "       '2016-01-09', '2016-01-10', '2016-01-11', '2016-01-12',\n",
              "       '2016-01-13', '2016-01-14', '2016-01-15', '2016-01-16',\n",
              "       '2016-01-17', '2016-01-18', '2016-01-19', '2016-01-20',\n",
              "       '2016-01-21', '2016-01-22', '2016-01-23', '2016-01-24',\n",
              "       '2016-01-25', '2016-01-26', '2016-01-27', '2016-01-28',\n",
              "       '2016-01-29', '2016-01-30', '2016-01-31'], dtype='datetime64[D]')"
            ]
          },
          "metadata": {},
          "execution_count": 5
        }
      ],
      "source": [
        "import numpy as np\n",
        "sanalar = np.arange('2016-01','2016-02',dtype='datetime64[D]')\n",
        "sanalar"
      ]
    },
    {
      "cell_type": "code",
      "source": [
        "print(f\"My father was born in {sanalar[19]}\")"
      ],
      "metadata": {
        "id": "t4g0LDlbObKv",
        "outputId": "a6e82de4-e534-4d4a-deb8-dc434cd31728",
        "colab": {
          "base_uri": "https://localhost:8080/"
        }
      },
      "id": "t4g0LDlbObKv",
      "execution_count": 8,
      "outputs": [
        {
          "output_type": "stream",
          "name": "stdout",
          "text": [
            "My father was born in 2016-01-20\n"
          ]
        }
      ]
    },
    {
      "cell_type": "markdown",
      "id": "486df8ea",
      "metadata": {
        "id": "486df8ea"
      },
      "source": [
        "#### 27. 4 xil usul yordamida musbat sonlarning tasodifiy massivining butun son qismini ajratib oling.\n"
      ]
    },
    {
      "cell_type": "markdown",
      "source": [
        "`💡Ishora` %, np.floor, astype, np.trunc`"
      ],
      "metadata": {
        "id": "h4QM3bp9TDhb"
      },
      "id": "h4QM3bp9TDhb"
    },
    {
      "cell_type": "code",
      "execution_count": 11,
      "id": "2680c1ca",
      "metadata": {
        "id": "2680c1ca",
        "outputId": "cbf805b4-43b8-4fbc-b1ed-570005c7af46",
        "colab": {
          "base_uri": "https://localhost:8080/"
        }
      },
      "outputs": [
        {
          "output_type": "execute_result",
          "data": {
            "text/plain": [
              "3.0"
            ]
          },
          "metadata": {},
          "execution_count": 11
        }
      ],
      "source": [
        "3.14-3.14%1"
      ]
    },
    {
      "cell_type": "code",
      "source": [
        "arr23 = -10*np.random.random(5)\n",
        "arr23"
      ],
      "metadata": {
        "id": "T3lOO48KPAWN",
        "outputId": "3ed3050c-91fe-477f-8ff0-4ab2de8f97ac",
        "colab": {
          "base_uri": "https://localhost:8080/"
        }
      },
      "id": "T3lOO48KPAWN",
      "execution_count": 15,
      "outputs": [
        {
          "output_type": "execute_result",
          "data": {
            "text/plain": [
              "array([-8.66767269, -9.68846952, -9.18815605, -2.7125084 , -2.05756962])"
            ]
          },
          "metadata": {},
          "execution_count": 15
        }
      ]
    },
    {
      "cell_type": "code",
      "source": [
        "arr23-arr23%1"
      ],
      "metadata": {
        "id": "O2Ve7Up3PXxY",
        "outputId": "86449a6d-70cb-49e3-e914-5a1f764f006e",
        "colab": {
          "base_uri": "https://localhost:8080/"
        }
      },
      "id": "O2Ve7Up3PXxY",
      "execution_count": 18,
      "outputs": [
        {
          "output_type": "execute_result",
          "data": {
            "text/plain": [
              "array([ -9., -10., -10.,  -3.,  -3.])"
            ]
          },
          "metadata": {},
          "execution_count": 18
        }
      ]
    },
    {
      "cell_type": "code",
      "source": [
        "np.floor(arr23)"
      ],
      "metadata": {
        "id": "ryYqis5UQf26",
        "outputId": "d3424666-a270-44d7-9d27-b694c99dfb27",
        "colab": {
          "base_uri": "https://localhost:8080/"
        }
      },
      "id": "ryYqis5UQf26",
      "execution_count": 19,
      "outputs": [
        {
          "output_type": "execute_result",
          "data": {
            "text/plain": [
              "array([ -9., -10., -10.,  -3.,  -3.])"
            ]
          },
          "metadata": {},
          "execution_count": 19
        }
      ]
    },
    {
      "cell_type": "code",
      "source": [
        "arr23.astype(int)"
      ],
      "metadata": {
        "id": "hOxo9-bIRUX-",
        "outputId": "a6547689-1950-4324-fe8d-739f46ac48eb",
        "colab": {
          "base_uri": "https://localhost:8080/"
        }
      },
      "id": "hOxo9-bIRUX-",
      "execution_count": 21,
      "outputs": [
        {
          "output_type": "execute_result",
          "data": {
            "text/plain": [
              "array([-8, -9, -9, -2, -2])"
            ]
          },
          "metadata": {},
          "execution_count": 21
        }
      ]
    },
    {
      "cell_type": "code",
      "source": [
        "np.trunc(arr23)"
      ],
      "metadata": {
        "id": "sQakvfunWUZv",
        "outputId": "3783c292-c3b1-4630-80e5-dc6087889fe7",
        "colab": {
          "base_uri": "https://localhost:8080/"
        }
      },
      "id": "sQakvfunWUZv",
      "execution_count": 22,
      "outputs": [
        {
          "output_type": "execute_result",
          "data": {
            "text/plain": [
              "array([-8., -9., -9., -2., -2.])"
            ]
          },
          "metadata": {},
          "execution_count": 22
        }
      ]
    },
    {
      "cell_type": "markdown",
      "id": "6415f02e",
      "metadata": {
        "id": "6415f02e"
      },
      "source": [
        "#### 28. Ixtiyoriy kichik massivlar yarating, ular yeg'indisini np.sum funksiyasidanda tezroq hisoblovchi dastur tuzing.\n"
      ]
    },
    {
      "cell_type": "markdown",
      "source": [
        "`💡Ishora` np.add.reduce"
      ],
      "metadata": {
        "id": "129e785f"
      },
      "id": "129e785f"
    },
    {
      "cell_type": "code",
      "source": [
        "np.sum(arr23)"
      ],
      "metadata": {
        "id": "M0Xv2bB9VYQZ",
        "outputId": "bba31653-8c97-4973-81e0-d9703ae53f69",
        "colab": {
          "base_uri": "https://localhost:8080/"
        }
      },
      "id": "M0Xv2bB9VYQZ",
      "execution_count": 31,
      "outputs": [
        {
          "output_type": "execute_result",
          "data": {
            "text/plain": [
              "-32.314376276754395"
            ]
          },
          "metadata": {},
          "execution_count": 31
        }
      ]
    },
    {
      "cell_type": "code",
      "source": [
        "arr24 = 10*np.random.random(5)\n",
        "arr24"
      ],
      "metadata": {
        "id": "Q-B02jXxWukG",
        "outputId": "5557ec8f-c920-4be5-d287-667413cb9018",
        "colab": {
          "base_uri": "https://localhost:8080/"
        }
      },
      "id": "Q-B02jXxWukG",
      "execution_count": 29,
      "outputs": [
        {
          "output_type": "execute_result",
          "data": {
            "text/plain": [
              "array([7.32733218, 9.60275015, 8.50183319, 9.58292649, 7.5522166 ])"
            ]
          },
          "metadata": {},
          "execution_count": 29
        }
      ]
    },
    {
      "cell_type": "code",
      "source": [
        "arr25 = 10*np.random.random(5)\n",
        "arr25"
      ],
      "metadata": {
        "id": "cp0pr1zaW18w",
        "outputId": "2d1a364a-861c-4335-b008-e4da27a2e01b",
        "colab": {
          "base_uri": "https://localhost:8080/"
        }
      },
      "id": "cp0pr1zaW18w",
      "execution_count": 30,
      "outputs": [
        {
          "output_type": "execute_result",
          "data": {
            "text/plain": [
              "array([3.22123882, 4.98150925, 0.89275975, 9.22586918, 5.43328128])"
            ]
          },
          "metadata": {},
          "execution_count": 30
        }
      ]
    },
    {
      "cell_type": "code",
      "source": [
        "np.sum(arr23)"
      ],
      "metadata": {
        "id": "8H3k0jLUYo_n",
        "outputId": "acee848a-257d-40b8-cc7b-281c70942855",
        "colab": {
          "base_uri": "https://localhost:8080/"
        }
      },
      "id": "8H3k0jLUYo_n",
      "execution_count": 32,
      "outputs": [
        {
          "output_type": "execute_result",
          "data": {
            "text/plain": [
              "-32.314376276754395"
            ]
          },
          "metadata": {},
          "execution_count": 32
        }
      ]
    },
    {
      "cell_type": "code",
      "source": [
        "np.add.reduce(arr23)"
      ],
      "metadata": {
        "id": "d0jQH0aLYsJ9",
        "outputId": "a927d3f5-9767-4f22-fdb2-dc0067452ee8",
        "colab": {
          "base_uri": "https://localhost:8080/"
        }
      },
      "id": "d0jQH0aLYsJ9",
      "execution_count": 33,
      "outputs": [
        {
          "output_type": "execute_result",
          "data": {
            "text/plain": [
              "-32.314376276754395"
            ]
          },
          "metadata": {},
          "execution_count": 33
        }
      ]
    },
    {
      "cell_type": "code",
      "source": [
        "import numpy as np\n",
        "import timeit\n",
        "\n",
        "# Create a large NumPy array for testing\n",
        "arr = np.random.rand(1000000)\n",
        "\n",
        "# Define a function to compare np.sum and np.add.reduce\n",
        "def sum_method():\n",
        "    return np.sum(arr)\n",
        "\n",
        "def reduce_method():\n",
        "    return np.add.reduce(arr)\n",
        "\n",
        "# Measure the time taken by np.sum\n",
        "time_sum = timeit.timeit(sum_method, number=100)\n",
        "\n",
        "# Measure the time taken by np.add.reduce\n",
        "time_reduce = timeit.timeit(reduce_method, number=100)\n",
        "\n",
        "print(\"Time taken by np.sum:\", time_sum)\n",
        "print(\"Time taken by np.add.reduce:\", time_reduce)\n"
      ],
      "metadata": {
        "id": "u4DYVR7OY0eV",
        "outputId": "eaf783c6-e1f8-482d-c2bb-2b0eeeee353f",
        "colab": {
          "base_uri": "https://localhost:8080/"
        }
      },
      "id": "u4DYVR7OY0eV",
      "execution_count": 34,
      "outputs": [
        {
          "output_type": "stream",
          "name": "stdout",
          "text": [
            "Time taken by np.sum: 0.06392816800007495\n",
            "Time taken by np.add.reduce: 0.06357495000020208\n"
          ]
        }
      ]
    },
    {
      "cell_type": "markdown",
      "id": "58be9dd4",
      "metadata": {
        "id": "58be9dd4"
      },
      "source": [
        "#### 29. [1, 2, 3, 4, 5] vektor berilgan, har bir qiymat orasiga ketma-ket 3 ta nol raqamini yozuvchi dastur tuzing.\n"
      ]
    },
    {
      "cell_type": "markdown",
      "source": [
        "`💡Ishora` array[::4]"
      ],
      "metadata": {
        "id": "9cf9e134"
      },
      "id": "9cf9e134"
    },
    {
      "cell_type": "code",
      "source": [
        "arr25 = np.arange(1,6)\n",
        "arr26 = np.array([])\n",
        "for i in arr25:\n",
        "  arr26 = np.append(arr26,i)\n",
        "  for i in range(3):\n",
        "    arr26 = np.append(arr26, 0)\n",
        "print(arr26)"
      ],
      "metadata": {
        "id": "04IuJ2jaZeYu",
        "outputId": "90a4b9d8-cac2-47d4-a7b8-935997af69c5",
        "colab": {
          "base_uri": "https://localhost:8080/"
        }
      },
      "id": "04IuJ2jaZeYu",
      "execution_count": 37,
      "outputs": [
        {
          "output_type": "stream",
          "name": "stdout",
          "text": [
            "[1. 0. 0. 0. 2. 0. 0. 0. 3. 0. 0. 0. 4. 0. 0. 0. 5. 0. 0. 0.]\n"
          ]
        }
      ]
    },
    {
      "cell_type": "markdown",
      "id": "781fa236",
      "metadata": {
        "id": "781fa236"
      },
      "source": [
        "#### 30. Quyidagi a massiv berilgan, a = [1,2,3,4,5,6,7,8,9,10,11,12,13,14] undan foydalangan holda siz quyidagi b massivni yarata olasizmi, b = [[1,2,3,4], [2,3,4,5], [3,4,5,6], ..., [11,12,13,14]]?\n"
      ]
    },
    {
      "cell_type": "markdown",
      "source": [
        "`💡Ishora` stride_tricks.as_strided"
      ],
      "metadata": {
        "id": "82e3d17e"
      },
      "id": "82e3d17e"
    },
    {
      "cell_type": "code",
      "source": [
        "import numpy as np\n",
        "from numpy.lib.stride_tricks import as_strided\n",
        "\n",
        "# Create a sample array\n",
        "arr = np.array([1, 2, 3, 4, 5, 6])\n",
        "\n",
        "# Use as_strided to create a new view of the array with a different shape and strides\n",
        "strided_arr = as_strided(arr, shape=(4, 2), strides=(4, 4))\n",
        "\n",
        "# Print the strided array\n",
        "print(strided_arr)\n"
      ],
      "metadata": {
        "id": "S1H6ivCua3NZ",
        "outputId": "346c61a6-74bb-456f-d593-4c56657aef44",
        "colab": {
          "base_uri": "https://localhost:8080/"
        }
      },
      "id": "S1H6ivCua3NZ",
      "execution_count": 38,
      "outputs": [
        {
          "output_type": "stream",
          "name": "stdout",
          "text": [
            "[[          1  8589934592]\n",
            " [ 8589934592           2]\n",
            " [          2 12884901888]\n",
            " [12884901888           3]]\n"
          ]
        }
      ]
    },
    {
      "cell_type": "code",
      "source": [
        "import numpy as np\n",
        "\n",
        "a = np.array([1, 2, 3, 4, 5, 6, 7, 8, 9, 10, 11, 12, 13, 14])\n",
        "\n",
        "# Yaratilayotgan b massivning shape'i\n",
        "new_shape = (a.shape[0] - 3 + 1, 4)\n",
        "\n",
        "# b massivni yaratish\n",
        "b = np.lib.stride_tricks.as_strided(a, shape=new_shape, strides=(a.itemsize, a.itemsize))\n",
        "\n",
        "print(b)\n"
      ],
      "metadata": {
        "id": "N10PGte7fdc_",
        "outputId": "b8a79916-d2c3-4a96-a18b-17eb2319b337",
        "colab": {
          "base_uri": "https://localhost:8080/"
        }
      },
      "id": "N10PGte7fdc_",
      "execution_count": 39,
      "outputs": [
        {
          "output_type": "stream",
          "name": "stdout",
          "text": [
            "[[              1               2               3               4]\n",
            " [              2               3               4               5]\n",
            " [              3               4               5               6]\n",
            " [              4               5               6               7]\n",
            " [              5               6               7               8]\n",
            " [              6               7               8               9]\n",
            " [              7               8               9              10]\n",
            " [              8               9              10              11]\n",
            " [              9              10              11              12]\n",
            " [             10              11              12              13]\n",
            " [             11              12              13              14]\n",
            " [             12              13              14 138154038690352]]\n"
          ]
        }
      ]
    },
    {
      "cell_type": "markdown",
      "id": "7d8dc135",
      "metadata": {
        "id": "7d8dc135"
      },
      "source": [
        "#### 31. Ixtiyoriy sonlardan tashkil topgan massiv yarating, unga o'xshash qiymatlar kiriting. So'ng, o'xshash qiymatlarni topuvchi dastur tuzing.\n"
      ]
    },
    {
      "cell_type": "markdown",
      "source": [
        "`💡Ishora` np.bincount, argmax"
      ],
      "metadata": {
        "id": "81844e99"
      },
      "id": "81844e99"
    },
    {
      "cell_type": "code",
      "source": [
        "arr23 = -arr23.astype(int)\n",
        "arr23"
      ],
      "metadata": {
        "id": "SiRaNwxjbaQN",
        "outputId": "255cc6c9-1c2d-47d9-a4c4-7fb974e07a3c",
        "colab": {
          "base_uri": "https://localhost:8080/"
        }
      },
      "id": "SiRaNwxjbaQN",
      "execution_count": 52,
      "outputs": [
        {
          "output_type": "execute_result",
          "data": {
            "text/plain": [
              "array([ 9, 10, 10,  3,  3])"
            ]
          },
          "metadata": {},
          "execution_count": 52
        }
      ]
    },
    {
      "cell_type": "code",
      "source": [
        "arr24 = arr24.astype(int)\n",
        "arr24"
      ],
      "metadata": {
        "id": "YRC2UDuEfoC4",
        "outputId": "c946e380-fdd1-43d8-85f1-69f6846833e7",
        "colab": {
          "base_uri": "https://localhost:8080/"
        }
      },
      "id": "YRC2UDuEfoC4",
      "execution_count": 50,
      "outputs": [
        {
          "output_type": "execute_result",
          "data": {
            "text/plain": [
              "array([7, 9, 8, 9, 7])"
            ]
          },
          "metadata": {},
          "execution_count": 50
        }
      ]
    },
    {
      "cell_type": "code",
      "source": [
        "np.bincount(arr23)"
      ],
      "metadata": {
        "id": "wNOzKB8_hLRO",
        "outputId": "1fa054f9-3668-4556-eeb3-16c112c1d3bf",
        "colab": {
          "base_uri": "https://localhost:8080/"
        }
      },
      "id": "wNOzKB8_hLRO",
      "execution_count": 53,
      "outputs": [
        {
          "output_type": "execute_result",
          "data": {
            "text/plain": [
              "array([0, 0, 0, 2, 0, 0, 0, 0, 0, 1, 2])"
            ]
          },
          "metadata": {},
          "execution_count": 53
        }
      ]
    },
    {
      "cell_type": "code",
      "source": [
        "np.bincount([1,2,3])"
      ],
      "metadata": {
        "id": "qmNRHnWEhlPy",
        "outputId": "0ecfdaa7-0707-4625-e1fd-014fd27debd1",
        "colab": {
          "base_uri": "https://localhost:8080/"
        }
      },
      "id": "qmNRHnWEhlPy",
      "execution_count": 54,
      "outputs": [
        {
          "output_type": "execute_result",
          "data": {
            "text/plain": [
              "array([0, 1, 1, 1])"
            ]
          },
          "metadata": {},
          "execution_count": 54
        }
      ]
    },
    {
      "cell_type": "code",
      "source": [
        "np.bincount([1,2,3,1,2,2,3,3,3])"
      ],
      "metadata": {
        "id": "0XPunpf0hrh1",
        "outputId": "f7b463a0-8fb6-4d01-c047-8898b6c41c83",
        "colab": {
          "base_uri": "https://localhost:8080/"
        }
      },
      "id": "0XPunpf0hrh1",
      "execution_count": 56,
      "outputs": [
        {
          "output_type": "execute_result",
          "data": {
            "text/plain": [
              "array([0, 2, 3, 4])"
            ]
          },
          "metadata": {},
          "execution_count": 56
        }
      ]
    },
    {
      "cell_type": "code",
      "source": [
        "arr28 = np.array([1,2,3,4,5])\n",
        "arr29 = np.array([1,2,2,3,3,3])"
      ],
      "metadata": {
        "id": "lD6omSEXh68g"
      },
      "id": "lD6omSEXh68g",
      "execution_count": 58,
      "outputs": []
    },
    {
      "cell_type": "code",
      "source": [
        "np.in1d(arr28,arr29)"
      ],
      "metadata": {
        "id": "xLIutXnCiWBR",
        "outputId": "a89ab764-86c6-437f-958e-e2b9b1a1ee4d",
        "colab": {
          "base_uri": "https://localhost:8080/"
        }
      },
      "id": "xLIutXnCiWBR",
      "execution_count": 59,
      "outputs": [
        {
          "output_type": "execute_result",
          "data": {
            "text/plain": [
              "array([ True,  True,  True, False, False])"
            ]
          },
          "metadata": {},
          "execution_count": 59
        }
      ]
    },
    {
      "cell_type": "markdown",
      "source": [
        "#### BONUS!\n",
        "\n",
        "`💡O'zingiz javob berishni istagan savolni kiriting va unga javob bering!`"
      ],
      "metadata": {
        "id": "URzxwwODb0m_"
      },
      "id": "URzxwwODb0m_"
    },
    {
      "cell_type": "code",
      "source": [],
      "metadata": {
        "id": "9xpR0GVrbzuk"
      },
      "id": "9xpR0GVrbzuk",
      "execution_count": null,
      "outputs": []
    }
  ],
  "metadata": {
    "hide_input": false,
    "kernelspec": {
      "display_name": "Python 3",
      "language": "python",
      "name": "python3"
    },
    "language_info": {
      "codemirror_mode": {
        "name": "ipython",
        "version": 3
      },
      "file_extension": ".py",
      "mimetype": "text/x-python",
      "name": "python",
      "nbconvert_exporter": "python",
      "pygments_lexer": "ipython3",
      "version": "3.8.8"
    },
    "toc": {
      "base_numbering": 1,
      "nav_menu": {},
      "number_sections": true,
      "sideBar": true,
      "skip_h1_title": false,
      "title_cell": "Table of Contents",
      "title_sidebar": "Contents",
      "toc_cell": false,
      "toc_position": {},
      "toc_section_display": true,
      "toc_window_display": false
    },
    "varInspector": {
      "cols": {
        "lenName": 16,
        "lenType": 16,
        "lenVar": 40
      },
      "kernels_config": {
        "python": {
          "delete_cmd_postfix": "",
          "delete_cmd_prefix": "del ",
          "library": "var_list.py",
          "varRefreshCmd": "print(var_dic_list())"
        },
        "r": {
          "delete_cmd_postfix": ") ",
          "delete_cmd_prefix": "rm(",
          "library": "var_list.r",
          "varRefreshCmd": "cat(var_dic_list()) "
        }
      },
      "types_to_exclude": [
        "module",
        "function",
        "builtin_function_or_method",
        "instance",
        "_Feature"
      ],
      "window_display": false
    },
    "colab": {
      "provenance": [],
      "include_colab_link": true
    }
  },
  "nbformat": 4,
  "nbformat_minor": 5
}