{
  "nbformat": 4,
  "nbformat_minor": 0,
  "metadata": {
    "colab": {
      "provenance": [],
      "authorship_tag": "ABX9TyPIDM/O/xLvWnukLfkPeWjP",
      "include_colab_link": true
    },
    "kernelspec": {
      "name": "python3",
      "display_name": "Python 3"
    },
    "language_info": {
      "name": "python"
    }
  },
  "cells": [
    {
      "cell_type": "markdown",
      "metadata": {
        "id": "view-in-github",
        "colab_type": "text"
      },
      "source": [
        "<a href=\"https://colab.research.google.com/github/KamronbekSolih/mohirdev/blob/main/np_where.ipynb\" target=\"_parent\"><img src=\"https://colab.research.google.com/assets/colab-badge.svg\" alt=\"Open In Colab\"/></a>"
      ]
    },
    {
      "cell_type": "code",
      "source": [
        "import numpy as np"
      ],
      "metadata": {
        "id": "IBTRi6naBV1P"
      },
      "execution_count": 2,
      "outputs": []
    },
    {
      "cell_type": "code",
      "execution_count": 3,
      "metadata": {
        "id": "AlZymgnm9wJ1"
      },
      "outputs": [],
      "source": [
        "depressants = np.array(['Barbs','Benzos','Downers','Reds','Rophies'])\n",
        "stimulants = np.array(['Dexedrine','Concerta','Ritalin','Didrex','Bontril'])"
      ]
    },
    {
      "cell_type": "code",
      "source": [
        "cond = np.array([True, False,True,False,False])\n"
      ],
      "metadata": {
        "id": "Jolcc3SGBOro"
      },
      "execution_count": 6,
      "outputs": []
    },
    {
      "cell_type": "code",
      "source": [
        "#where Return elements chosen from x or y depending on condition\n",
        "result = np.where(cond,depressants,stimulants)"
      ],
      "metadata": {
        "id": "Ak4X8_iVBlT4"
      },
      "execution_count": 7,
      "outputs": []
    },
    {
      "cell_type": "code",
      "source": [
        "result"
      ],
      "metadata": {
        "colab": {
          "base_uri": "https://localhost:8080/"
        },
        "id": "pLSQkzY6BwaB",
        "outputId": "ad561b95-9cb2-47fc-e15e-002bc8adaa9f"
      },
      "execution_count": 8,
      "outputs": [
        {
          "output_type": "execute_result",
          "data": {
            "text/plain": [
              "array(['Barbs', 'Concerta', 'Downers', 'Didrex', 'Bontril'], dtype='<U9')"
            ]
          },
          "metadata": {},
          "execution_count": 8
        }
      ]
    },
    {
      "cell_type": "code",
      "source": [
        "arr = np.random.randn(4,4)\n",
        "arr"
      ],
      "metadata": {
        "colab": {
          "base_uri": "https://localhost:8080/"
        },
        "id": "HNZSGKnqB4IY",
        "outputId": "cad6f93c-d937-43c7-c173-cd5c870d2447"
      },
      "execution_count": 9,
      "outputs": [
        {
          "output_type": "execute_result",
          "data": {
            "text/plain": [
              "array([[-0.68024166, -0.31668388, -1.29264257,  0.17553353],\n",
              "       [ 2.09614366,  0.73883461, -0.17764885, -0.45085514],\n",
              "       [ 1.21463893, -0.00245185,  1.1310269 ,  0.92479305],\n",
              "       [ 0.20665461, -0.38784578,  0.56059683, -0.18805898]])"
            ]
          },
          "metadata": {},
          "execution_count": 9
        }
      ]
    },
    {
      "cell_type": "code",
      "source": [
        "natija = np.where(arr<0,-1,1)\n",
        "natija"
      ],
      "metadata": {
        "colab": {
          "base_uri": "https://localhost:8080/"
        },
        "id": "HZtiAIfEC-DU",
        "outputId": "fb1bda23-0cd4-43d3-e9fa-5e664cc39256"
      },
      "execution_count": 10,
      "outputs": [
        {
          "output_type": "execute_result",
          "data": {
            "text/plain": [
              "array([[-1, -1, -1,  1],\n",
              "       [ 1,  1, -1, -1],\n",
              "       [ 1, -1,  1,  1],\n",
              "       [ 1, -1,  1, -1]])"
            ]
          },
          "metadata": {},
          "execution_count": 10
        }
      ]
    },
    {
      "cell_type": "code",
      "source": [],
      "metadata": {
        "id": "DoFO8kH_DKZb"
      },
      "execution_count": null,
      "outputs": []
    }
  ]
}