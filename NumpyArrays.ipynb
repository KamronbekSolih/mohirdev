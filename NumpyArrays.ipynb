{
  "nbformat": 4,
  "nbformat_minor": 0,
  "metadata": {
    "colab": {
      "provenance": [],
      "authorship_tag": "ABX9TyPwAjrLDcmI72097yClvuJC",
      "include_colab_link": true
    },
    "kernelspec": {
      "name": "python3",
      "display_name": "Python 3"
    },
    "language_info": {
      "name": "python"
    }
  },
  "cells": [
    {
      "cell_type": "markdown",
      "metadata": {
        "id": "view-in-github",
        "colab_type": "text"
      },
      "source": [
        "<a href=\"https://colab.research.google.com/github/KamronbekSolih/mohirdev/blob/main/NumpyArrays.ipynb\" target=\"_parent\"><img src=\"https://colab.research.google.com/assets/colab-badge.svg\" alt=\"Open In Colab\"/></a>"
      ]
    },
    {
      "cell_type": "markdown",
      "source": [
        "In numpy array elements types are similar to c and c++."
      ],
      "metadata": {
        "id": "tpLTG-DLllv8"
      }
    },
    {
      "cell_type": "code",
      "execution_count": null,
      "metadata": {
        "colab": {
          "base_uri": "https://localhost:8080/"
        },
        "id": "Tf23biIi5Hpv",
        "outputId": "9a3e1739-8b60-4113-b980-916a076fb330"
      },
      "outputs": [
        {
          "output_type": "execute_result",
          "data": {
            "text/plain": [
              "dtype('int8')"
            ]
          },
          "metadata": {},
          "execution_count": 3
        }
      ],
      "source": [
        "import numpy as np\n",
        "arr1 = np.array([1,2,3,4],dtype=np.int8)\n",
        "arr1.dtype\n"
      ]
    },
    {
      "cell_type": "code",
      "source": [
        "float_arr = arr1.astype(np.float64)\n",
        "float_arr"
      ],
      "metadata": {
        "colab": {
          "base_uri": "https://localhost:8080/"
        },
        "id": "wo1_MhR05iHl",
        "outputId": "9afaf0d6-b163-4c8f-c798-4814435290cd"
      },
      "execution_count": null,
      "outputs": [
        {
          "output_type": "execute_result",
          "data": {
            "text/plain": [
              "array([1., 2., 3., 4.])"
            ]
          },
          "metadata": {},
          "execution_count": 4
        }
      ]
    },
    {
      "cell_type": "markdown",
      "source": [
        "If you change sliced part of the array, this change effects the original array too."
      ],
      "metadata": {
        "id": "He3dC5U9lylI"
      }
    },
    {
      "cell_type": "code",
      "source": [
        "arr = np.arange(10,100,10)\n",
        "sliced_arr = arr[3:5]\n",
        "sliced_arr[:] = 0 # assigning 0 to all elemets of the array\n",
        "print(\"Sliced array: \",sliced_arr)\n",
        "print(\"Original array\",arr)"
      ],
      "metadata": {
        "colab": {
          "base_uri": "https://localhost:8080/"
        },
        "id": "yUqli9XAljsW",
        "outputId": "f9b22019-f5b9-4092-dc02-23cdec4c7083"
      },
      "execution_count": null,
      "outputs": [
        {
          "output_type": "stream",
          "name": "stdout",
          "text": [
            "Sliced array:  [0 0]\n",
            "Original array [10 20 30  0  0 60 70 80 90]\n"
          ]
        }
      ]
    },
    {
      "cell_type": "markdown",
      "source": [
        "In order to avoid above metntioned issue, we use .copy() method"
      ],
      "metadata": {
        "id": "VXn6CEvJnWzE"
      }
    },
    {
      "cell_type": "code",
      "source": [
        "arr1 = np.arange(10,100,10)\n",
        "sliced_arr1 = arr1[3:5].copy()\n",
        "sliced_arr1[:] = 0\n",
        "print(\"Sliced array: \",sliced_arr1)\n",
        "print(\"Original array\",arr1) # now, the original array has not been modified"
      ],
      "metadata": {
        "colab": {
          "base_uri": "https://localhost:8080/"
        },
        "id": "AsLZF1NEnepL",
        "outputId": "a03e96dd-e102-431d-d4a6-cf1f78b4b5ed"
      },
      "execution_count": null,
      "outputs": [
        {
          "output_type": "stream",
          "name": "stdout",
          "text": [
            "Sliced array:  [0 0]\n",
            "Original array [10 20 30 40 50 60 70 80 90]\n"
          ]
        }
      ]
    },
    {
      "cell_type": "markdown",
      "source": [
        "Working with 2 DEMENTIONAL arrays"
      ],
      "metadata": {
        "id": "TEZy15Z3og7W"
      }
    },
    {
      "cell_type": "code",
      "source": [
        "arr3 = np.array([[1,2,3],[4,5,6],[7,8,9]])\n",
        "print(arr3[0,0])"
      ],
      "metadata": {
        "colab": {
          "base_uri": "https://localhost:8080/"
        },
        "id": "TxaT2ke6ogY9",
        "outputId": "abebf60a-55ef-4207-a29d-5dffaf4dd10d"
      },
      "execution_count": null,
      "outputs": [
        {
          "output_type": "stream",
          "name": "stdout",
          "text": [
            "1\n"
          ]
        }
      ]
    },
    {
      "cell_type": "markdown",
      "source": [
        "Slicing"
      ],
      "metadata": {
        "id": "6Rv4_PjCsi87"
      }
    },
    {
      "cell_type": "code",
      "source": [
        "print(arr3[2,1:3]) # arr3[row-number,slicing-element-indexes]\n",
        "print('arr3[:2,1:]: \\n',arr3[:2,1:])\n",
        "print('Only 3rd row',arr3[2]) # arr[2,:], arr[2:,:]"
      ],
      "metadata": {
        "colab": {
          "base_uri": "https://localhost:8080/"
        },
        "id": "NMUKmjGkslCT",
        "outputId": "cd12252f-9c84-4e60-af79-69046d52a98d"
      },
      "execution_count": null,
      "outputs": [
        {
          "output_type": "stream",
          "name": "stdout",
          "text": [
            "[8 9]\n",
            "arr3[:2,1:]: \n",
            " [[2 3]\n",
            " [5 6]]\n",
            "Only 3rd row [7 8 9]\n"
          ]
        }
      ]
    },
    {
      "cell_type": "code",
      "source": [
        "arr3[:,:2]"
      ],
      "metadata": {
        "colab": {
          "base_uri": "https://localhost:8080/"
        },
        "id": "Bf609q6MtzIq",
        "outputId": "6bc7dbdf-a7db-4337-9d2c-00c9996d751a"
      },
      "execution_count": null,
      "outputs": [
        {
          "output_type": "execute_result",
          "data": {
            "text/plain": [
              "array([[1, 2],\n",
              "       [4, 5],\n",
              "       [7, 8]])"
            ]
          },
          "metadata": {},
          "execution_count": 32
        }
      ]
    },
    {
      "cell_type": "code",
      "source": [
        "arr3[1,:2]"
      ],
      "metadata": {
        "colab": {
          "base_uri": "https://localhost:8080/"
        },
        "id": "hH7mVgRWt87_",
        "outputId": "578661f9-6ca3-436c-d4c2-06046ae239ef"
      },
      "execution_count": null,
      "outputs": [
        {
          "output_type": "execute_result",
          "data": {
            "text/plain": [
              "array([4, 5])"
            ]
          },
          "metadata": {},
          "execution_count": 33
        }
      ]
    },
    {
      "cell_type": "code",
      "source": [],
      "metadata": {
        "id": "eEBUAk1nuEd1"
      },
      "execution_count": null,
      "outputs": []
    },
    {
      "cell_type": "markdown",
      "source": [
        "Indexing 3d arrays is similar to 2d array indexing. Just we should devide up 3d arrays into 2d arrays."
      ],
      "metadata": {
        "id": "ChvpwHikv_C1"
      }
    },
    {
      "cell_type": "markdown",
      "source": [
        "Boolean indexing"
      ],
      "metadata": {
        "id": "yGgQC0xAAoZv"
      }
    },
    {
      "cell_type": "code",
      "source": [
        "names = np.array(['Hasan','Husan','Husaying','Abdulloh','Shukrulloh','Nasrulloh', 'Hasan'])\n",
        "names"
      ],
      "metadata": {
        "colab": {
          "base_uri": "https://localhost:8080/"
        },
        "id": "bYdr24N4Arom",
        "outputId": "bd007524-8e0b-4d41-e2e5-8b2b29995c21"
      },
      "execution_count": null,
      "outputs": [
        {
          "output_type": "execute_result",
          "data": {
            "text/plain": [
              "array(['Hasan', 'Husan', 'Husaying', 'Abdulloh', 'Shukrulloh',\n",
              "       'Nasrulloh', 'Hasan'], dtype='<U10')"
            ]
          },
          "metadata": {},
          "execution_count": 36
        }
      ]
    },
    {
      "cell_type": "code",
      "source": [
        "data = np.random.randn(7,4)\n",
        "data"
      ],
      "metadata": {
        "colab": {
          "base_uri": "https://localhost:8080/"
        },
        "id": "hrkjSmPPA-C4",
        "outputId": "a888a991-7a19-4498-e60f-de34ae8f4ff1"
      },
      "execution_count": null,
      "outputs": [
        {
          "output_type": "execute_result",
          "data": {
            "text/plain": [
              "array([[ 0.90756669, -0.02943653, -1.01460319, -1.16862477],\n",
              "       [ 0.59149036,  1.27390202,  0.36634006,  0.41566464],\n",
              "       [-0.98743305, -0.87207505,  0.60058259,  1.41984452],\n",
              "       [-1.53024442, -1.14649562,  0.26721603,  2.9615051 ],\n",
              "       [-0.64777695,  1.15926332, -2.1333205 , -0.58838041],\n",
              "       [ 0.27659249,  0.55529502, -1.16093462, -0.20721522],\n",
              "       [ 0.82382319,  1.48271346, -0.76296736, -0.39847085]])"
            ]
          },
          "metadata": {},
          "execution_count": 35
        }
      ]
    },
    {
      "cell_type": "code",
      "source": [
        "names == 'Hasan'"
      ],
      "metadata": {
        "colab": {
          "base_uri": "https://localhost:8080/"
        },
        "id": "5gyr_gD4BKbT",
        "outputId": "c7c6eb62-5774-48ac-d7b2-df4532b49842"
      },
      "execution_count": null,
      "outputs": [
        {
          "output_type": "execute_result",
          "data": {
            "text/plain": [
              "array([ True, False, False, False, False, False,  True])"
            ]
          },
          "metadata": {},
          "execution_count": 37
        }
      ]
    },
    {
      "cell_type": "code",
      "source": [
        "data[names == 'Abdulloh']"
      ],
      "metadata": {
        "colab": {
          "base_uri": "https://localhost:8080/"
        },
        "id": "pji2D9eRBjos",
        "outputId": "c9b94b37-7478-4cf1-8dfe-9f6c90207dd3"
      },
      "execution_count": null,
      "outputs": [
        {
          "output_type": "execute_result",
          "data": {
            "text/plain": [
              "array([[-1.53024442, -1.14649562,  0.26721603,  2.9615051 ]])"
            ]
          },
          "metadata": {},
          "execution_count": 40
        }
      ]
    },
    {
      "cell_type": "code",
      "source": [],
      "metadata": {
        "id": "InfinDMFDTlS"
      },
      "execution_count": null,
      "outputs": []
    },
    {
      "cell_type": "code",
      "source": [
        "surnames = np.array(['Toshev','Norev','Aliev','Valiyev','Soliyev','Avazov','Komiljonov'])\n"
      ],
      "metadata": {
        "id": "Vw32EVC1CMmF"
      },
      "execution_count": null,
      "outputs": []
    },
    {
      "cell_type": "code",
      "source": [
        "surnames == 'Toshev'\n"
      ],
      "metadata": {
        "colab": {
          "base_uri": "https://localhost:8080/"
        },
        "id": "VqfY7Nm4Dhkl",
        "outputId": "9674a816-5496-4e4b-ec6f-457d2d5fa4e4"
      },
      "execution_count": null,
      "outputs": [
        {
          "output_type": "execute_result",
          "data": {
            "text/plain": [
              "array([ True, False, False, False, False, False, False])"
            ]
          },
          "metadata": {},
          "execution_count": 46
        }
      ]
    },
    {
      "cell_type": "code",
      "source": [
        "surnames[names == 'Abdulloh']"
      ],
      "metadata": {
        "colab": {
          "base_uri": "https://localhost:8080/"
        },
        "id": "kVJyZT7ADj5A",
        "outputId": "2fb6d006-e854-43cb-b4a1-bef8c5c4017b"
      },
      "execution_count": null,
      "outputs": [
        {
          "output_type": "execute_result",
          "data": {
            "text/plain": [
              "array(['Valiyev'], dtype='<U10')"
            ]
          },
          "metadata": {},
          "execution_count": 48
        }
      ]
    },
    {
      "cell_type": "code",
      "source": [
        "names[surnames == 'Norev']"
      ],
      "metadata": {
        "colab": {
          "base_uri": "https://localhost:8080/"
        },
        "id": "0Octt8LbD_AF",
        "outputId": "5695441d-0efc-46e1-e83f-4432300dffea"
      },
      "execution_count": null,
      "outputs": [
        {
          "output_type": "execute_result",
          "data": {
            "text/plain": [
              "array(['Husan'], dtype='<U10')"
            ]
          },
          "metadata": {},
          "execution_count": 50
        }
      ]
    },
    {
      "cell_type": "code",
      "source": [
        "data[names != 'Hasan']\n"
      ],
      "metadata": {
        "colab": {
          "base_uri": "https://localhost:8080/"
        },
        "id": "bCIAioQFEIeE",
        "outputId": "ae8f20e9-c80e-488f-8444-1879dcf130d2"
      },
      "execution_count": null,
      "outputs": [
        {
          "output_type": "execute_result",
          "data": {
            "text/plain": [
              "array([[ 0.59149036,  1.27390202,  0.36634006,  0.41566464],\n",
              "       [-0.98743305, -0.87207505,  0.60058259,  1.41984452],\n",
              "       [-1.53024442, -1.14649562,  0.26721603,  2.9615051 ],\n",
              "       [-0.64777695,  1.15926332, -2.1333205 , -0.58838041],\n",
              "       [ 0.27659249,  0.55529502, -1.16093462, -0.20721522]])"
            ]
          },
          "metadata": {},
          "execution_count": 52
        }
      ]
    },
    {
      "cell_type": "code",
      "source": [],
      "metadata": {
        "id": "VoD0Hk7XE7ia"
      },
      "execution_count": null,
      "outputs": []
    },
    {
      "cell_type": "markdown",
      "source": [
        "Transpose and Swap"
      ],
      "metadata": {
        "id": "K_hBRUJP58r3"
      }
    },
    {
      "cell_type": "code",
      "source": [
        "import numpy as np\n",
        "\n",
        "A = np.arange(6).reshape(3,2)\n",
        "A"
      ],
      "metadata": {
        "id": "c05NTH68Fj0S",
        "colab": {
          "base_uri": "https://localhost:8080/"
        },
        "outputId": "331b9df4-b5c6-42ea-c958-9ed40db736c8"
      },
      "execution_count": null,
      "outputs": [
        {
          "output_type": "execute_result",
          "data": {
            "text/plain": [
              "array([[0, 1],\n",
              "       [2, 3],\n",
              "       [4, 5]])"
            ]
          },
          "metadata": {},
          "execution_count": 1
        }
      ]
    },
    {
      "cell_type": "code",
      "source": [
        "A.T"
      ],
      "metadata": {
        "colab": {
          "base_uri": "https://localhost:8080/"
        },
        "id": "5DPDHQef6Ny5",
        "outputId": "e894eab5-1eb7-46d0-ab68-ec36c423d936"
      },
      "execution_count": null,
      "outputs": [
        {
          "output_type": "execute_result",
          "data": {
            "text/plain": [
              "array([[0, 2, 4],\n",
              "       [1, 3, 5]])"
            ]
          },
          "metadata": {},
          "execution_count": 2
        }
      ]
    },
    {
      "cell_type": "code",
      "source": [
        "A"
      ],
      "metadata": {
        "colab": {
          "base_uri": "https://localhost:8080/"
        },
        "id": "yaugIleg6OrN",
        "outputId": "f54a12b6-7846-4888-d54e-5c6d90435a99"
      },
      "execution_count": null,
      "outputs": [
        {
          "output_type": "execute_result",
          "data": {
            "text/plain": [
              "array([[0, 1],\n",
              "       [2, 3],\n",
              "       [4, 5]])"
            ]
          },
          "metadata": {},
          "execution_count": 3
        }
      ]
    },
    {
      "cell_type": "code",
      "source": [
        "A.swapaxes(1,0)"
      ],
      "metadata": {
        "colab": {
          "base_uri": "https://localhost:8080/"
        },
        "id": "g24aj28u7fN7",
        "outputId": "30836f18-2245-42f0-e169-933321258aa3"
      },
      "execution_count": null,
      "outputs": [
        {
          "output_type": "execute_result",
          "data": {
            "text/plain": [
              "array([[0, 2, 4],\n",
              "       [1, 3, 5]])"
            ]
          },
          "metadata": {},
          "execution_count": 4
        }
      ]
    },
    {
      "cell_type": "markdown",
      "source": [
        "A*A^T"
      ],
      "metadata": {
        "id": "Fp4nVZVW7zjt"
      }
    },
    {
      "cell_type": "code",
      "source": [
        "A@A.T"
      ],
      "metadata": {
        "colab": {
          "base_uri": "https://localhost:8080/"
        },
        "id": "FXknyy_k72Aa",
        "outputId": "63c8729d-2365-4e73-b1b2-aa1b0b38a407"
      },
      "execution_count": null,
      "outputs": [
        {
          "output_type": "execute_result",
          "data": {
            "text/plain": [
              "array([[ 1,  3,  5],\n",
              "       [ 3, 13, 23],\n",
              "       [ 5, 23, 41]])"
            ]
          },
          "metadata": {},
          "execution_count": 5
        }
      ]
    },
    {
      "cell_type": "code",
      "source": [
        "np.dot(A,A.T)"
      ],
      "metadata": {
        "colab": {
          "base_uri": "https://localhost:8080/"
        },
        "id": "XAfaAuH77pw3",
        "outputId": "5413d8f9-a16c-44ae-c04f-956f6d0c0c94"
      },
      "execution_count": null,
      "outputs": [
        {
          "output_type": "execute_result",
          "data": {
            "text/plain": [
              "array([[ 1,  3,  5],\n",
              "       [ 3, 13, 23],\n",
              "       [ 5, 23, 41]])"
            ]
          },
          "metadata": {},
          "execution_count": 6
        }
      ]
    }
  ]
}