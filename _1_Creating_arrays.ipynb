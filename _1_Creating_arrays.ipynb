{
  "nbformat": 4,
  "nbformat_minor": 0,
  "metadata": {
    "colab": {
      "provenance": [],
      "authorship_tag": "ABX9TyP4y5qL6oeMSWhzf+amkKVH",
      "include_colab_link": true
    },
    "kernelspec": {
      "name": "python3",
      "display_name": "Python 3"
    },
    "language_info": {
      "name": "python"
    }
  },
  "cells": [
    {
      "cell_type": "markdown",
      "metadata": {
        "id": "view-in-github",
        "colab_type": "text"
      },
      "source": [
        "<a href=\"https://colab.research.google.com/github/KamronbekSolih/mohirdev/blob/main/_1_Creating_arrays.ipynb\" target=\"_parent\"><img src=\"https://colab.research.google.com/assets/colab-badge.svg\" alt=\"Open In Colab\"/></a>"
      ]
    },
    {
      "cell_type": "code",
      "execution_count": 3,
      "metadata": {
        "id": "iKx-YuEQlI4l"
      },
      "outputs": [],
      "source": [
        "import numpy as np\n"
      ]
    },
    {
      "cell_type": "code",
      "source": [
        "data = [1,3.5,-12, 'olma']\n",
        "array = np.array(data)\n",
        "print(type(array[2]))\n"
      ],
      "metadata": {
        "colab": {
          "base_uri": "https://localhost:8080/"
        },
        "id": "xRiZNcI0lYGH",
        "outputId": "c22ddf1c-953a-4739-b327-2e7f6c53b534"
      },
      "execution_count": 11,
      "outputs": [
        {
          "output_type": "stream",
          "name": "stdout",
          "text": [
            "<class 'numpy.int64'>\n"
          ]
        }
      ]
    },
    {
      "cell_type": "markdown",
      "source": [
        "in Numpy we can create arrays with elements of different types. however, numpy changes element types into one type for all array's elements. in the case above, 1st element of the array isn't integer but string becuse there is a string type element in the array. if you delete the string type element and check 1st element's type it is not integer again! it will be float, because there is a float type element in our array."
      ],
      "metadata": {
        "id": "G9-uicpbmxpz"
      }
    },
    {
      "cell_type": "code",
      "source": [
        "# Checking array demention\n",
        "\n",
        "print(array.ndim)"
      ],
      "metadata": {
        "colab": {
          "base_uri": "https://localhost:8080/"
        },
        "id": "QeS9B_NrpGjY",
        "outputId": "e4408754-e5e5-45a0-e738-ffcd1d72cbd1"
      },
      "execution_count": 13,
      "outputs": [
        {
          "output_type": "stream",
          "name": "stdout",
          "text": [
            "1\n"
          ]
        }
      ]
    },
    {
      "cell_type": "code",
      "source": [
        "# creating multidemetional arrays\n",
        "\n",
        "myList = [[1,2,3,4,5],[6,7,8,9,10]]\n",
        "myArray = np.array(myList)\n",
        "\n",
        "print(myArray.ndim)"
      ],
      "metadata": {
        "colab": {
          "base_uri": "https://localhost:8080/"
        },
        "id": "9DXVCL3qp8wj",
        "outputId": "bb7571ac-073d-4d0a-fd45-124ed275d46a"
      },
      "execution_count": 15,
      "outputs": [
        {
          "output_type": "stream",
          "name": "stdout",
          "text": [
            "2\n"
          ]
        }
      ]
    },
    {
      "cell_type": "markdown",
      "source": [
        "shape and size\n",
        "shape for cheking dementions of array and size for element count"
      ],
      "metadata": {
        "id": "n3mBlF49rIet"
      }
    },
    {
      "cell_type": "code",
      "source": [
        "print(myArray.shape) # output (rows,columns)\n",
        "print(myArray.size) # elements count"
      ],
      "metadata": {
        "colab": {
          "base_uri": "https://localhost:8080/"
        },
        "id": "UOAxaUhrrB0T",
        "outputId": "9ffefadc-4085-4a33-f8bb-0f68c9ebd92e"
      },
      "execution_count": 20,
      "outputs": [
        {
          "output_type": "stream",
          "name": "stdout",
          "text": [
            "(2, 5)\n",
            "10\n"
          ]
        }
      ]
    },
    {
      "cell_type": "markdown",
      "source": [
        "Zeroes and Ones"
      ],
      "metadata": {
        "id": "NjUkHnYSs2d8"
      }
    },
    {
      "cell_type": "code",
      "source": [
        "arr4 = np.zeros((2,3)) # creating 2x3 array or matrix filled with 0\n",
        "arr5 = np. ones((3,4)) # 4x5 array or matrix filled with 1\n",
        "print(arr4)\n",
        "print(arr5)"
      ],
      "metadata": {
        "colab": {
          "base_uri": "https://localhost:8080/"
        },
        "id": "lVHgHNMus5Cd",
        "outputId": "5f88bff3-1ce7-481a-bc0b-384ad47a85e1"
      },
      "execution_count": 22,
      "outputs": [
        {
          "output_type": "stream",
          "name": "stdout",
          "text": [
            "[[0. 0. 0.]\n",
            " [0. 0. 0.]]\n",
            "[[1. 1. 1. 1.]\n",
            " [1. 1. 1. 1.]\n",
            " [1. 1. 1. 1.]]\n"
          ]
        }
      ]
    },
    {
      "cell_type": "markdown",
      "source": [
        "np.arange() = range()"
      ],
      "metadata": {
        "id": "DM9u5n3QuHMz"
      }
    },
    {
      "cell_type": "code",
      "source": [
        "arr6 = np.arange(4,20,2)\n",
        "print(arr6)"
      ],
      "metadata": {
        "colab": {
          "base_uri": "https://localhost:8080/"
        },
        "id": "cxzJeOdgs15m",
        "outputId": "949ea6e3-f4e8-4236-9939-5e44f3c7ce41"
      },
      "execution_count": 24,
      "outputs": [
        {
          "output_type": "stream",
          "name": "stdout",
          "text": [
            "[ 4  6  8 10 12 14 16 18]\n"
          ]
        }
      ]
    },
    {
      "cell_type": "markdown",
      "source": [
        "random arrays"
      ],
      "metadata": {
        "id": "kySho09hu9Sf"
      }
    },
    {
      "cell_type": "code",
      "source": [
        "arr8 = np.random.rand(2,4) # (2, 4) o'lchamli --> elementlar (0 ~ 1) taxminiy qiymatlardan tashkil topgan\n",
        "arr8"
      ],
      "metadata": {
        "colab": {
          "base_uri": "https://localhost:8080/"
        },
        "id": "fSLG4R3irFoT",
        "outputId": "d4c984a1-f802-42b3-ae61-a1280ca2e7d2"
      },
      "execution_count": 25,
      "outputs": [
        {
          "output_type": "execute_result",
          "data": {
            "text/plain": [
              "array([[0.16758948, 0.64312716, 0.47180615, 0.14661153],\n",
              "       [0.20413052, 0.35917021, 0.58292759, 0.63096755]])"
            ]
          },
          "metadata": {},
          "execution_count": 25
        }
      ]
    },
    {
      "cell_type": "code",
      "source": [
        "arr9 = np.random.randint(5, size=(2, 4)) # (2, 4) o'lchamli va max qiymati 5 gacha bo'lgan int sonlar\n",
        "arr9"
      ],
      "metadata": {
        "colab": {
          "base_uri": "https://localhost:8080/"
        },
        "id": "yU57n378vUpC",
        "outputId": "35636035-aec0-4055-8224-fa09eabffa1d"
      },
      "execution_count": 26,
      "outputs": [
        {
          "output_type": "execute_result",
          "data": {
            "text/plain": [
              "array([[3, 4, 1, 2],\n",
              "       [2, 2, 0, 2]])"
            ]
          },
          "metadata": {},
          "execution_count": 26
        }
      ]
    },
    {
      "cell_type": "code",
      "source": [
        "arr10 = np.random.randn(2, 4) # (2, 4) o'lchamli --> elementlari (Normal dist)\n",
        "arr10"
      ],
      "metadata": {
        "colab": {
          "base_uri": "https://localhost:8080/"
        },
        "id": "LPm3X35lvdlY",
        "outputId": "7b4e30f7-3af2-4550-b267-51e33547bb23"
      },
      "execution_count": 27,
      "outputs": [
        {
          "output_type": "execute_result",
          "data": {
            "text/plain": [
              "array([[ 0.63308179,  1.03269093, -0.42881545,  2.89258541],\n",
              "       [-0.21947486, -0.68089374,  0.52286037,  0.17777253]])"
            ]
          },
          "metadata": {},
          "execution_count": 27
        }
      ]
    }
  ]
}